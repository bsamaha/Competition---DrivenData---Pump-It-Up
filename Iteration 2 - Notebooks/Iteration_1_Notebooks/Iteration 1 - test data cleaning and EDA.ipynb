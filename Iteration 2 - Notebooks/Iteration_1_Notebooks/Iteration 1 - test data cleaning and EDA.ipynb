{
 "cells": [
  {
   "cell_type": "markdown",
   "metadata": {},
   "source": [
    "# Classification of Tanzanian Water Well Status\n",
    "* This notebook is from my participation in [Driven Data's competition](https://www.drivendata.org/competitions/7/pump-it-up-data-mining-the-water-table/page/23/). This first notebook will be about exploring and cleaning the data."
   ]
  },
  {
   "cell_type": "markdown",
   "metadata": {},
   "source": [
    "## Import Data"
   ]
  },
  {
   "cell_type": "code",
   "execution_count": 1,
   "metadata": {
    "ExecuteTime": {
     "end_time": "2020-07-09T05:01:00.571574Z",
     "start_time": "2020-07-09T05:00:59.322282Z"
    }
   },
   "outputs": [],
   "source": [
    "import pandas as pd\n",
    "import numpy as np\n",
    "from pandas_profiling import ProfileReport\n",
    "import matplotlib.pyplot as plt\n",
    "import seaborn as sns\n",
    "import warnings\n",
    "warnings.filterwarnings('ignore')"
   ]
  },
  {
   "cell_type": "code",
   "execution_count": 2,
   "metadata": {
    "ExecuteTime": {
     "end_time": "2020-07-09T05:01:00.649582Z",
     "start_time": "2020-07-09T05:01:00.572574Z"
    }
   },
   "outputs": [
    {
     "name": "stdout",
     "output_type": "stream",
     "text": [
      "(14850, 39)\n"
     ]
    }
   ],
   "source": [
    "# Join Training labels and values into single DF by there ID\n",
    "df = pd.read_csv('./Data/Test Set Values.csv').set_index('id')\n",
    "print(df.shape)\n"
   ]
  },
  {
   "cell_type": "code",
   "execution_count": 3,
   "metadata": {
    "ExecuteTime": {
     "end_time": "2020-07-09T05:01:00.652583Z",
     "start_time": "2020-07-09T05:01:00.650582Z"
    }
   },
   "outputs": [],
   "source": [
    "# # Import training data labels into df\n",
    "# training_df_labels = pd.read_csv('./Data/Training Set Labels.csv').set_index(\n",
    "#     'id')\n",
    "\n",
    "# # Preview the Dataframe\n",
    "# training_df_labels.head()"
   ]
  },
  {
   "cell_type": "code",
   "execution_count": 4,
   "metadata": {
    "ExecuteTime": {
     "end_time": "2020-07-09T05:01:00.656584Z",
     "start_time": "2020-07-09T05:01:00.653582Z"
    }
   },
   "outputs": [],
   "source": [
    "# # Join Training labels and values into single DF by there ID\n",
    "# df = training_df.join(training_df_labels, on='id')\n",
    "# print(df.shape)\n",
    "\n",
    "# # Validate if we still have all the same columns still\n",
    "# len(df.columns) == len(training_df.columns) + len(training_df_labels.columns)"
   ]
  },
  {
   "cell_type": "markdown",
   "metadata": {},
   "source": [
    "## This Data is Training Data Only\n",
    "The data has already been split by Driven Data. They have given me 3 different data frames, training values, training labels, and test values. The output must create a CSV file with the id and predicted labels which they will score for me. Due to this already being split into train and test data I can go ahead with data preparation tasks without worrying about data leakage. "
   ]
  },
  {
   "cell_type": "code",
   "execution_count": 5,
   "metadata": {
    "ExecuteTime": {
     "end_time": "2020-07-09T05:01:00.663585Z",
     "start_time": "2020-07-09T05:01:00.657584Z"
    }
   },
   "outputs": [],
   "source": [
    "#\n",
    "## Use Pandas Profile to view  an inline quick overall summary of the data\n",
    "#training_profile = ProfileReport(df,\n",
    "#                                 title='EDA of Water Well Data',\n",
    "#                                 explorative=True,\n",
    "#                                 html={'style': {\n",
    "#                                     'full_width': True\n",
    "#                                 }})\n",
    "#training_profile.to_notebook_iframe()\n",
    "#\n",
    "## Send the profile to HTML to be viewed fullscreen\n",
    "#training_profile.to_file(\"./Data/WaterWell_EDA.html\")"
   ]
  },
  {
   "cell_type": "markdown",
   "metadata": {},
   "source": [
    "# Data Cleaning - Low Hanging Fruit"
   ]
  },
  {
   "cell_type": "markdown",
   "metadata": {},
   "source": [
    "## Step 1: Delete Zero Variance Predictors\n",
    " - Pandas Profile alerted us that 'recorded_by' is a constant value for all observations\n",
    " - We can immediately delete this row as it will not help us make predictions"
   ]
  },
  {
   "cell_type": "code",
   "execution_count": 6,
   "metadata": {
    "ExecuteTime": {
     "end_time": "2020-07-09T05:01:00.774611Z",
     "start_time": "2020-07-09T05:01:00.664585Z"
    }
   },
   "outputs": [],
   "source": [
    "# Count numbers of unique values double checking pandas profiler\n",
    "counts = df.nunique()\n",
    "\n",
    "# Identify columns with a constant vale (zero variance)\n",
    "zero_variance_predictors = [\n",
    "    df.columns[i] for i, v in enumerate(counts) if v == 1\n",
    "]\n",
    "\n",
    "# Delete identified zero variance columns from our main data frame\n",
    "df = df.drop(columns=zero_variance_predictors)"
   ]
  },
  {
   "cell_type": "markdown",
   "metadata": {},
   "source": [
    "## Section 2: Identify Near-Zero Variance Predictors\n",
    "- We are looking for numerical values that have very few distinct values\n",
    "- This is different than ordinal or categorical values with very few predictors\n",
    "- Pandas Profile has alerted us to some of this we will double check in this section\n"
   ]
  },
  {
   "cell_type": "code",
   "execution_count": 7,
   "metadata": {
    "ExecuteTime": {
     "end_time": "2020-07-09T05:01:00.778611Z",
     "start_time": "2020-07-09T05:01:00.776611Z"
    },
    "scrolled": false
   },
   "outputs": [],
   "source": [
    "# # Create empty list to save names to drop columns later\n",
    "near_zero_variance_predictors = []\n",
    "\n",
    "# # This list is to collect column names to be dropped at the end of this Step\n",
    "near_zero_variance_drop_list = []\n",
    "\n",
    "# # summarize the number of unique values in each column\n",
    "# for i in range(df.shape[1]):\n",
    "# #    # Number of unique values in that column\n",
    "#     num = df.nunique()[i]\n",
    "# #    # Percentage of unique values to total\n",
    "#     percentage = float(num) / df.shape[0] * 100\n",
    "# #    # Get name of column\n",
    "#     name = df.columns[i]\n",
    "# #    # Save name of column to a list oustide of for loop\n",
    "#     near_zero_variance_predictors.append(name)\n",
    "#     if percentage < 1:\n",
    "#         print('%d, %d, %.1f%%, %s' % (i, num, percentage, name))"
   ]
  },
  {
   "cell_type": "markdown",
   "metadata": {},
   "source": [
    "### 2.1 Further Examination of Near Zero Variace Predictors\n",
    "- Most of these columns are categorical\n",
    "- We are *only* looking to eliminate the numerical values with very vew data points such as 'amount_tsh' at this step\n",
    "- Date Recorded should be a different data type we will analyze later\n",
    "\n",
    "Using our pandas profile output we will evaluate which of these are numeric or categorical. At this time we will not analyze the categorical data. Num_private is binary and has no description so it can be removed without hesitation. The following columns are numeric and will be examined further:\n",
    "- amount_tsh\n",
    "- num_private (No good description of this predictor)\n",
    "- Year constructed\n"
   ]
  },
  {
   "cell_type": "markdown",
   "metadata": {},
   "source": [
    "#### 2.1.1 Exploration of amount_tsh column\n",
    "- Static head is the difference in height of the water level in the well and the top of the pump\n",
    "- The higher the head the less energy it takes to pump water up\n",
    "- Potentially positive static head could be an indicator of wells that do not need to be repaired\n",
    "- My theory is some \"repairs\" have to deal with drilling a new water well because the last one is dried up\n",
    "\n",
    "In the two bar charts below we can see there is a strong difference in the positive head data set and no static head. The ratio of functional to non-functional is much better in the positive head column. We can turn this column into a binary column showing a positive recorded static head or not."
   ]
  },
  {
   "cell_type": "code",
   "execution_count": 8,
   "metadata": {
    "ExecuteTime": {
     "end_time": "2020-07-09T05:01:00.783612Z",
     "start_time": "2020-07-09T05:01:00.779611Z"
    }
   },
   "outputs": [],
   "source": [
    "# # Create dataframe with positive static head to use for analysis\n",
    "# postive_tsh_df = df.loc[df.amount_tsh > 0]\n",
    "\n",
    "# # Group df by status group and get counts for each status group\n",
    "# positive_tsh_groups = postive_tsh_df.groupby(df.status_group).count()\n",
    "\n",
    "# # Plot graph of positive total static head\n",
    "# sns.barplot(x=['funtional', 'functional needs repair', 'non functional'],\n",
    "#             y=positive_tsh_groups.status_group)\n",
    "\n",
    "# # Update Y axis name\n",
    "# plt.ylabel('Count of wells')\n",
    "\n",
    "# # Update Plot Title\n",
    "# plt.title('Wells with a positive static head')"
   ]
  },
  {
   "cell_type": "code",
   "execution_count": 9,
   "metadata": {
    "ExecuteTime": {
     "end_time": "2020-07-09T05:01:00.788613Z",
     "start_time": "2020-07-09T05:01:00.784613Z"
    },
    "scrolled": true
   },
   "outputs": [],
   "source": [
    "# # Create dataframe with no static head to use for analysis\n",
    "# no_tsh_df = df.loc[df.amount_tsh <= 0]\n",
    "\n",
    "# # Group df by status group and get counts for each status group\n",
    "# no_tsh_groups = no_tsh_df.groupby(df.status_group).count()\n",
    "\n",
    "# # Plot graph of positive total static head\n",
    "# sns.barplot(x=['functional', 'functional needs repair', 'non functional'],\n",
    "#             y=no_tsh_groups.status_group)\n",
    "\n",
    "# # Update Y axis name\n",
    "# plt.ylabel('Count of wells')\n",
    "\n",
    "# # Update Plot Title\n",
    "# plt.title('Wells with a no static head')"
   ]
  },
  {
   "cell_type": "markdown",
   "metadata": {},
   "source": [
    "#### 2.1.2 Num_Private Analysis\n",
    "We have no data description of what this column is. Without any good description data I do not feel comfortable using this data in a model so we will remove this column from our dataset."
   ]
  },
  {
   "cell_type": "code",
   "execution_count": 10,
   "metadata": {
    "ExecuteTime": {
     "end_time": "2020-07-09T05:01:00.794615Z",
     "start_time": "2020-07-09T05:01:00.789613Z"
    },
    "scrolled": true
   },
   "outputs": [],
   "source": [
    "# View Counds of values\n",
    "df.num_private.value_counts()\n",
    "\n",
    "near_zero_variance_drop_list.append('num_private')"
   ]
  },
  {
   "cell_type": "markdown",
   "metadata": {},
   "source": [
    "#### 2.1.3 Year Constructed Analysis\n",
    "The year constructed could give us some valuable insights so it may be wise not to drop this predictor. It will not have many unique values as it is interval data. In the cells below I have plotted the number of wells over time by their current status grouping. My initial hypothesis is that the more recently constructed wells will still be working and the older wells will not.\n",
    "\n",
    "We may turn this into a binary function with an arbitrary cutoff date. For example, wells constructed after the year 2000 or before. My guess is the majority of wells that do not have a constructed date are probably older. \n"
   ]
  },
  {
   "cell_type": "code",
   "execution_count": 11,
   "metadata": {
    "ExecuteTime": {
     "end_time": "2020-07-09T05:01:00.798616Z",
     "start_time": "2020-07-09T05:01:00.795615Z"
    }
   },
   "outputs": [],
   "source": [
    "# # Create a grouped data frame to get the number and status of wells constructed that year\n",
    "# constructed_year_df = df.loc[df.construction_year > 0].groupby(\n",
    "#     [df.construction_year, df.status_group]).count()\n",
    "\n",
    "# # Remove all other columns except status group column for our data frame\n",
    "# constructed_year_df = constructed_year_df.loc[:, ['status_group']]\n",
    "\n",
    "# # Rename 'status_group' to count showing the count of wells that year in that particular status group\n",
    "# constructed_year_df.rename(columns={'status_group': 'count'}, inplace=True)\n",
    "\n",
    "# # Reset index to select status groups independently\n",
    "# constructed_year_df.reset_index(inplace=True)"
   ]
  },
  {
   "cell_type": "markdown",
   "metadata": {},
   "source": [
    "*Create the line graphs*"
   ]
  },
  {
   "cell_type": "code",
   "execution_count": 12,
   "metadata": {
    "ExecuteTime": {
     "end_time": "2020-07-09T05:01:00.802616Z",
     "start_time": "2020-07-09T05:01:00.799616Z"
    },
    "scrolled": false
   },
   "outputs": [],
   "source": [
    "# # Get Y values for functional status group\n",
    "# functional = constructed_year_df.loc[constructed_year_df.status_group ==\n",
    "#                                      'functional']\n",
    "\n",
    "# # Get Y values for functional needs repair group\n",
    "# functional_needs_repair = constructed_year_df.loc[\n",
    "#     constructed_year_df.status_group == 'functional needs repair']\n",
    "\n",
    "# # This array only is missing data for 1966 so we are putting in a placeholder of 0 so we can plot\n",
    "# functional_needs_repair.loc[-1] = [1966, 'functional needs repair', 0]\n",
    "\n",
    "# # Sort this array so that 1966 placeholder goes where it belongs\n",
    "# functional_needs_repair.sort_values('construction_year', inplace=True)\n",
    "\n",
    "# # Get Y values for non functional status group\n",
    "# non_functional = constructed_year_df.loc[constructed_year_df.status_group ==\n",
    "#                                          'non functional']\n",
    "\n",
    "# # Get X values for plot\n",
    "# year_constructed = constructed_year_df.construction_year.unique()\n",
    "\n",
    "# # Plot functional status group over years\n",
    "# plt.plot(year_constructed, functional['count'], label='functional')\n",
    "\n",
    "# # Plot functional but needs repair status group over years\n",
    "# plt.plot(year_constructed,\n",
    "#          functional_needs_repair['count'],\n",
    "#          label='functional needs repair')\n",
    "\n",
    "# # Plot non functional status group over years\n",
    "# plt.plot(year_constructed, non_functional['count'], label='non functional')\n",
    "# plt.title('Number of wells Cosntructed based on their current Status')\n",
    "# plt.xlabel('Year well was constructed')\n",
    "# plt.ylabel('Number of wells')\n",
    "# plt.legend()\n",
    "# plt.figure(figsize=(20, 20))"
   ]
  },
  {
   "cell_type": "markdown",
   "metadata": {},
   "source": [
    "### 2.3 Dropping Near Zero Variance Columns"
   ]
  },
  {
   "cell_type": "code",
   "execution_count": 13,
   "metadata": {
    "ExecuteTime": {
     "end_time": "2020-07-09T05:01:00.810618Z",
     "start_time": "2020-07-09T05:01:00.803617Z"
    }
   },
   "outputs": [],
   "source": [
    "# Drop near zero variant columns\n",
    "df.drop(columns=near_zero_variance_drop_list, inplace=True)"
   ]
  },
  {
   "cell_type": "markdown",
   "metadata": {},
   "source": [
    "# Section 3 Numerical Data Analysis and Cleaning"
   ]
  },
  {
   "cell_type": "code",
   "execution_count": 14,
   "metadata": {
    "ExecuteTime": {
     "end_time": "2020-07-09T05:01:00.819621Z",
     "start_time": "2020-07-09T05:01:00.811619Z"
    }
   },
   "outputs": [
    {
     "name": "stdout",
     "output_type": "stream",
     "text": [
      "<class 'pandas.core.frame.DataFrame'>\n",
      "Int64Index: 14850 entries, 50785 to 68707\n",
      "Data columns (total 7 columns):\n",
      " #   Column             Non-Null Count  Dtype  \n",
      "---  ------             --------------  -----  \n",
      " 0   amount_tsh         14850 non-null  float64\n",
      " 1   date_recorded      14850 non-null  object \n",
      " 2   gps_height         14850 non-null  int64  \n",
      " 3   longitude          14850 non-null  float64\n",
      " 4   latitude           14850 non-null  float64\n",
      " 5   population         14850 non-null  int64  \n",
      " 6   construction_year  14850 non-null  int64  \n",
      "dtypes: float64(3), int64(3), object(1)\n",
      "memory usage: 928.1+ KB\n"
     ]
    }
   ],
   "source": [
    "# Look at pandas profile and pull all columns that are Real Numbers that we have not eliminated\n",
    "numerical_predictors = [\n",
    "    'amount_tsh', 'date_recorded', 'gps_height', 'longitude', 'latitude',\n",
    "    'population', 'construction_year',\n",
    "]\n",
    "\n",
    "# Create the numerical df\n",
    "numerical_df = df[numerical_predictors]\n",
    "\n",
    "# View Data Types\n",
    "numerical_df.info()\n",
    "\n",
    "# Keep track of numerical columns to be dropped\n",
    "numerical_columns_to_drop = []\n",
    "\n",
    "# Keep track of numercal columns ecvaluated\n",
    "evaluated_numerical_columns = []"
   ]
  },
  {
   "cell_type": "markdown",
   "metadata": {
    "ExecuteTime": {
     "end_time": "2020-07-07T00:37:12.318695Z",
     "start_time": "2020-07-07T00:37:12.313702Z"
    }
   },
   "source": [
    "### 3.1 Analysis of Amount_TSH Column\n",
    "We have already determined that this column could potentially be useful by looking at the bar charts we made earlier. We are going to start off with making this a binary column. \n",
    "- 1 if it has a positive head \n",
    "- 0 if it does not have a head greater than 0"
   ]
  },
  {
   "cell_type": "code",
   "execution_count": 15,
   "metadata": {
    "ExecuteTime": {
     "end_time": "2020-07-09T05:01:00.823622Z",
     "start_time": "2020-07-09T05:01:00.820620Z"
    }
   },
   "outputs": [],
   "source": [
    "# Add to list of columns that have been evaluated\n",
    "evaluated_numerical_columns.append('amount_tsh')\n",
    "\n",
    "# Create a new column changing amount_tsh to a binary column if it has positive head or not\n",
    "numerical_df['positive_head'] = (numerical_df.amount_tsh > 0).astype(int)\n",
    "\n",
    "# Update columns to be dropped\n",
    "numerical_columns_to_drop.append('amount_tsh')"
   ]
  },
  {
   "cell_type": "markdown",
   "metadata": {},
   "source": [
    "### 3.2 Analysis of Date Recorded Column\n",
    "- 1st iteration: The date of record should not have any effect on whether the well is working or not. We will remove this column from our data set this iteration."
   ]
  },
  {
   "cell_type": "code",
   "execution_count": 16,
   "metadata": {
    "ExecuteTime": {
     "end_time": "2020-07-09T05:01:00.827622Z",
     "start_time": "2020-07-09T05:01:00.824621Z"
    },
    "scrolled": true
   },
   "outputs": [],
   "source": [
    "# Add to list of columns that have been evaluated\n",
    "evaluated_numerical_columns.append('date_recorded')\n",
    "\n",
    "# Add this column to drop list\n",
    "numerical_columns_to_drop.append('date_recorded')"
   ]
  },
  {
   "cell_type": "markdown",
   "metadata": {},
   "source": [
    "### 3.3 Analysis of Longitude\n",
    "- Iteration 1: We will remove all NaN values from the dataframe"
   ]
  },
  {
   "cell_type": "code",
   "execution_count": 17,
   "metadata": {
    "ExecuteTime": {
     "end_time": "2020-07-09T05:01:01.027667Z",
     "start_time": "2020-07-09T05:01:00.828622Z"
    }
   },
   "outputs": [
    {
     "name": "stdout",
     "output_type": "stream",
     "text": [
      "The number of NaN values: 457\n",
      "It is 3.08% of the total data\n"
     ]
    },
    {
     "data": {
      "text/plain": [
       "<matplotlib.axes._subplots.AxesSubplot at 0x2336c552d88>"
      ]
     },
     "execution_count": 17,
     "metadata": {},
     "output_type": "execute_result"
    },
    {
     "data": {
      "image/png": "[encoded data removed]",
      "text/plain": [
       "<Figure size 576x396 with 1 Axes>"
      ]
     },
     "metadata": {},
     "output_type": "display_data"
    }
   ],
   "source": [
    "# Add to list of columns that have been evaluated\n",
    "evaluated_numerical_columns.append('longitude')\n",
    "\n",
    "# Mark 0 Values as nan as this is a placeholder for bad data\n",
    "numerical_df.longitude.replace(0, np.nan, inplace=True)\n",
    "\n",
    "# Print how many variables are NaN and percent\n",
    "print('The number of NaN values:', numerical_df.longitude.isnull().sum())\n",
    "print(\n",
    "    f'It is {(numerical_df.longitude.isnull().sum())/len(numerical_df.longitude):.2%} of the total data'\n",
    ")\n",
    "\n",
    "# Drop the NaN Values from the data set\n",
    "numerical_df.dropna(inplace=True)\n",
    "\n",
    "# View distribution of longtidal values\n",
    "sns.distplot(numerical_df.longitude)"
   ]
  },
  {
   "cell_type": "markdown",
   "metadata": {
    "ExecuteTime": {
     "end_time": "2020-07-07T03:14:17.494865Z",
     "start_time": "2020-07-07T03:14:17.490865Z"
    }
   },
   "source": [
    "### 3.4 Analysis of Latitude\n",
    "- 1st iteration: Latitude data looks good"
   ]
  },
  {
   "cell_type": "code",
   "execution_count": 18,
   "metadata": {
    "ExecuteTime": {
     "end_time": "2020-07-09T05:01:01.200706Z",
     "start_time": "2020-07-09T05:01:01.028668Z"
    }
   },
   "outputs": [
    {
     "data": {
      "text/plain": [
       "count    14393.000000\n",
       "mean        -5.865223\n",
       "std          2.804318\n",
       "min        -11.564592\n",
       "25%         -8.569461\n",
       "50%         -5.180883\n",
       "75%         -3.366969\n",
       "max         -0.998752\n",
       "Name: latitude, dtype: float64"
      ]
     },
     "execution_count": 18,
     "metadata": {},
     "output_type": "execute_result"
    },
    {
     "data": {
      "image/png": "[encoded data removed]",
      "text/plain": [
       "<Figure size 576x396 with 1 Axes>"
      ]
     },
     "metadata": {},
     "output_type": "display_data"
    }
   ],
   "source": [
    "# Add to list of columns that have been evaluated\n",
    "evaluated_numerical_columns.append('latitude')\n",
    "\n",
    "# View distribution of values to see if there are outliers\n",
    "sns.distplot(numerical_df.latitude)\n",
    "\n",
    "# Describe the data to find anomalies\n",
    "numerical_df.latitude.describe()"
   ]
  },
  {
   "cell_type": "markdown",
   "metadata": {
    "ExecuteTime": {
     "end_time": "2020-07-07T03:18:10.295513Z",
     "start_time": "2020-07-07T03:18:10.288511Z"
    }
   },
   "source": [
    "### 3.5 Analysis of Population around well\n",
    "- 1st Iteration - I have decided to do a simple binning for population as 36% of the observations have a population of 0. My initial theory is that the wells with a lot less (or none) people will have a higher chance of being non functional. "
   ]
  },
  {
   "cell_type": "code",
   "execution_count": 19,
   "metadata": {
    "ExecuteTime": {
     "end_time": "2020-07-09T05:01:01.203707Z",
     "start_time": "2020-07-09T05:01:01.201707Z"
    }
   },
   "outputs": [],
   "source": [
    "# Add to list of columns that have been evaluated\n",
    "evaluated_numerical_columns.append('population')\n",
    "\n",
    "# Create labels to easily identify what size population lives at that well\n",
    "#population_cut_labels = [\n",
    "#    'no people', 'under 1000', '1000+'\n",
    "#]\n",
    "\n",
    "# Create bin ranges for population segments\n",
    "#population_bins = [0, 1, 1000, numerical_df.population.max()]\n",
    "\n",
    "# Create new categorical column called population size and use 'cut' to create the bins\n",
    "#numerical_df['population_size'] = pd.cut(numerical_df['population'],\n",
    "#                                         bins=population_bins,\n",
    "#                                         labels=population_cut_labels,\n",
    "#                                         include_lowest=True)\n",
    "\n",
    "# View the results of the binning\n",
    "#numerical_df.population_size.value_counts()\n",
    "\n",
    "# Update columns to be dropped\n",
    "numerical_columns_to_drop.append('population')"
   ]
  },
  {
   "cell_type": "code",
   "execution_count": 20,
   "metadata": {
    "ExecuteTime": {
     "end_time": "2020-07-09T05:01:01.209708Z",
     "start_time": "2020-07-09T05:01:01.204707Z"
    }
   },
   "outputs": [],
   "source": [
    "#numerical_df.groupby(['population_size','status_group']).status_group.count().sort_values().plot(kind='bar',)"
   ]
  },
  {
   "cell_type": "markdown",
   "metadata": {
    "ExecuteTime": {
     "end_time": "2020-07-07T14:52:20.767161Z",
     "start_time": "2020-07-07T14:52:20.580118Z"
    }
   },
   "source": [
    "### 3.6 Analysis of Construction Year\n",
    "- 1st iteration: I have decided to make this into categorical data by binning the years into decades with 0 being a no data column"
   ]
  },
  {
   "cell_type": "code",
   "execution_count": 21,
   "metadata": {
    "ExecuteTime": {
     "end_time": "2020-07-09T05:01:01.218710Z",
     "start_time": "2020-07-09T05:01:01.210708Z"
    },
    "scrolled": true
   },
   "outputs": [],
   "source": [
    "# Add to list of columns that have been evaluated\n",
    "evaluated_numerical_columns.append('construction_year')\n",
    "\n",
    "# Create labels to easily identify what size population lives at that well\n",
    "construction_decade_labels = [\n",
    "    'no data', '1960s', '1970s', '1980s', '1990s', '2000s', '2010+'\n",
    "]\n",
    "\n",
    "# Create bin ranges for population segments\n",
    "construction_decade_bins = [\n",
    "    0, 1, 1969, 1979, 1989, 1999, 2009,\n",
    "    numerical_df.construction_year.max()\n",
    "]\n",
    "\n",
    "# Create new categorical column called population size and use 'cut' to create the bins\n",
    "numerical_df['construction_decade'] = pd.cut(numerical_df['construction_year'],\n",
    "                                             bins=construction_decade_bins,\n",
    "                                             labels=construction_decade_labels,\n",
    "                                             include_lowest=True)\n",
    "\n",
    "# View the results of the binning\n",
    "numerical_df.construction_decade.value_counts()\n",
    "\n",
    "# Update columns to be dropped\n",
    "numerical_columns_to_drop.append('construction_year')"
   ]
  },
  {
   "cell_type": "markdown",
   "metadata": {},
   "source": [
    "### 3.7 Check Numerical Columns evaluated and to be dropped in Section 3"
   ]
  },
  {
   "cell_type": "code",
   "execution_count": 22,
   "metadata": {
    "ExecuteTime": {
     "end_time": "2020-07-09T05:01:01.222712Z",
     "start_time": "2020-07-09T05:01:01.219711Z"
    }
   },
   "outputs": [
    {
     "name": "stdout",
     "output_type": "stream",
     "text": [
      "Columns to be dropped: ['amount_tsh', 'date_recorded', 'population', 'construction_year']\n",
      "Columns that were missed in evaluation: []\n"
     ]
    }
   ],
   "source": [
    "# View which columns will be dropped\n",
    "print('Columns to be dropped:',numerical_columns_to_drop)\n",
    "\n",
    "\n",
    "# Look at main df and select only the categorical values we have left\n",
    "# yields the elements in `list_2` that are NOT in `list_1`\n",
    "print('Columns that were missed in evaluation:',np.setdiff1d(evaluated_numerical_columns, numerical_df.columns))\n",
    "\n"
   ]
  },
  {
   "cell_type": "markdown",
   "metadata": {},
   "source": [
    "# Section 4 Categorical Data"
   ]
  },
  {
   "cell_type": "code",
   "execution_count": 23,
   "metadata": {
    "ExecuteTime": {
     "end_time": "2020-07-09T05:01:01.299729Z",
     "start_time": "2020-07-09T05:01:01.222712Z"
    }
   },
   "outputs": [
    {
     "name": "stdout",
     "output_type": "stream",
     "text": [
      "<class 'pandas.core.frame.DataFrame'>\n",
      "Int64Index: 14850 entries, 50785 to 68707\n",
      "Data columns (total 30 columns):\n",
      " #   Column                 Non-Null Count  Dtype \n",
      "---  ------                 --------------  ----- \n",
      " 0   basin                  14850 non-null  object\n",
      " 1   district_code          14850 non-null  int64 \n",
      " 2   extraction_type        14850 non-null  object\n",
      " 3   extraction_type_class  14850 non-null  object\n",
      " 4   extraction_type_group  14850 non-null  object\n",
      " 5   funder                 13981 non-null  object\n",
      " 6   installer              13973 non-null  object\n",
      " 7   lga                    14850 non-null  object\n",
      " 8   management             14850 non-null  object\n",
      " 9   management_group       14850 non-null  object\n",
      " 10  payment                14850 non-null  object\n",
      " 11  payment_type           14850 non-null  object\n",
      " 12  permit                 14113 non-null  object\n",
      " 13  public_meeting         14029 non-null  object\n",
      " 14  quality_group          14850 non-null  object\n",
      " 15  quantity               14850 non-null  object\n",
      " 16  quantity_group         14850 non-null  object\n",
      " 17  region                 14850 non-null  object\n",
      " 18  region_code            14850 non-null  int64 \n",
      " 19  scheme_management      13881 non-null  object\n",
      " 20  scheme_name            7758 non-null   object\n",
      " 21  source                 14850 non-null  object\n",
      " 22  source_class           14850 non-null  object\n",
      " 23  source_type            14850 non-null  object\n",
      " 24  subvillage             14751 non-null  object\n",
      " 25  ward                   14850 non-null  object\n",
      " 26  water_quality          14850 non-null  object\n",
      " 27  waterpoint_type        14850 non-null  object\n",
      " 28  waterpoint_type_group  14850 non-null  object\n",
      " 29  wpt_name               14850 non-null  object\n",
      "dtypes: int64(2), object(28)\n",
      "memory usage: 3.5+ MB\n"
     ]
    }
   ],
   "source": [
    "# Look at main df and select only the categorical values we have left\n",
    "# yields the elements in `list_2` that are NOT in `list_1`\n",
    "categorical_column_list = np.setdiff1d(df.columns, numerical_df.columns)\n",
    "\n",
    "# Create the categorical dataframe\n",
    "categorical_df = df[categorical_column_list]\n",
    "\n",
    "# Add the target labels to df\n",
    "#categorical_df['status_group'] = df.status_group\n",
    "\n",
    "# View Data Types\n",
    "categorical_df.info()\n",
    "\n",
    "# Initialize empty list of column names to drop at the end of this section\n",
    "categorical_to_drop_list = []\n",
    "\n",
    "# Create an empty list to keep track of columns that have been evaluated\n",
    "categorical_columns_evaluated = []"
   ]
  },
  {
   "cell_type": "markdown",
   "metadata": {
    "ExecuteTime": {
     "end_time": "2020-07-07T15:27:39.170093Z",
     "start_time": "2020-07-07T15:27:39.160543Z"
    }
   },
   "source": [
    "### 4.1 Highly Correlated Categories\n",
    "The following warnings have been generated in our pandas profile\n",
    "- extraction_type_group is highly correlated with extraction_type and 1 other fields\n",
    "- extraction_type is highly correlated with extraction_type_group and 1 other fields\n",
    "- extraction_type_class is highly correlated with extraction_type and 1 other fields\n",
    "- management_group is highly correlated with management\n",
    "- payment_type is highly correlated with payment\n",
    "- quality_group is highly correlated with water_quality\n",
    "- water_quality is highly correlated with quality_group\n",
    "- quantity_group is highly correlated with quantity\n",
    "- quantity is highly correlated with quantity_group\n",
    "- source_type is highly correlated with source and 1 other fields\n",
    "- source_class is highly correlated with source and 1 other fields\n",
    "- waterpoint_type_group is highly correlated with waterpoint_type\n"
   ]
  },
  {
   "cell_type": "markdown",
   "metadata": {
    "ExecuteTime": {
     "end_time": "2020-07-07T15:27:39.849936Z",
     "start_time": "2020-07-07T15:27:39.846933Z"
    }
   },
   "source": [
    "\n",
    "#### 4.1.1 Extraction* Correlated group\n",
    "Here we will explore the three correlated predictors that have to do with extraction\n",
    "\n",
    "- 1st iteration we will use the simplest form and go with extraction_type_class\n",
    "- 2nd iteration we will use extraction_type_class"
   ]
  },
  {
   "cell_type": "code",
   "execution_count": 24,
   "metadata": {
    "ExecuteTime": {
     "end_time": "2020-07-09T05:01:01.312732Z",
     "start_time": "2020-07-09T05:01:01.300729Z"
    }
   },
   "outputs": [
    {
     "name": "stdout",
     "output_type": "stream",
     "text": [
      "gravity              6483\n",
      "nira/tanira          2051\n",
      "other                1672\n",
      "submersible          1218\n",
      "swn 80                918\n",
      "mono                  763\n",
      "india mark ii         629\n",
      "afridev               438\n",
      "ksb                   375\n",
      "other - rope pump     121\n",
      "other - swn 81         55\n",
      "india mark iii         37\n",
      "windmill               35\n",
      "cemo                   18\n",
      "other - play pump      16\n",
      "walimi                 12\n",
      "climax                  9\n",
      "Name: extraction_type, dtype: int64\n",
      "Missing Value Count: 0\n",
      "****************************************************************************************************\n",
      "gravity         6483\n",
      "handpump        4156\n",
      "other           1672\n",
      "submersible     1593\n",
      "motorpump        790\n",
      "rope pump        121\n",
      "wind-powered      35\n",
      "Name: extraction_type_class, dtype: int64\n",
      "Missing Value Count: 0\n",
      "****************************************************************************************************\n",
      "gravity            6483\n",
      "nira/tanira        2051\n",
      "other              1672\n",
      "submersible        1593\n",
      "swn 80              918\n",
      "mono                763\n",
      "india mark ii       629\n",
      "afridev             438\n",
      "rope pump           121\n",
      "other handpump       83\n",
      "india mark iii       37\n",
      "wind-powered         35\n",
      "other motorpump      27\n",
      "Name: extraction_type_group, dtype: int64\n",
      "Missing Value Count: 0\n"
     ]
    }
   ],
   "source": [
    "# View the unique value counts on the data and print missing values\n",
    "# 'extraction_type'\n",
    "print(categorical_df.extraction_type.value_counts())\n",
    "print('Missing Value Count:', categorical_df.extraction_type.isnull().sum())\n",
    "print('*' * 100)\n",
    "\n",
    "# View the unique value counts on the data and print missing values\n",
    "# 'extraction_type_class'\n",
    "print(categorical_df.extraction_type_class.value_counts())\n",
    "print('Missing Value Count:',\n",
    "      categorical_df.extraction_type_class.isnull().sum())\n",
    "print('*' * 100)\n",
    "\n",
    "# View the unique value counts on the data and print missing values\n",
    "# 'extraction_type_group'\n",
    "print(categorical_df.extraction_type_group.value_counts())\n",
    "print('Missing Value Count:',\n",
    "      categorical_df.extraction_type_group.isnull().sum())\n",
    "\n",
    "# Create list to concatenate onto drop list\n",
    "extraction_drop_list = ['extraction_type', 'extraction_type_group']\n",
    "\n",
    "# Add the other columns to drop\n",
    "categorical_to_drop_list = categorical_to_drop_list + extraction_drop_list\n",
    "\n",
    "# Add to the list to keep track of columns evaluated\n",
    "categorical_columns_evaluated = categorical_columns_evaluated + [\n",
    "    'extraction_type', 'extraction_type_class', 'extraction_type_group'\n",
    "]"
   ]
  },
  {
   "cell_type": "markdown",
   "metadata": {
    "ExecuteTime": {
     "end_time": "2020-07-07T16:36:29.841998Z",
     "start_time": "2020-07-07T16:36:29.838997Z"
    }
   },
   "source": [
    "#### 4.1.2 Management and Management_Group\n",
    "As with the extraction correlated group we will use the predictor with the fewest features to help set a base case.\n",
    "\n",
    "- 1st iteration - Use simplest group so we will use management_group"
   ]
  },
  {
   "cell_type": "code",
   "execution_count": 25,
   "metadata": {
    "ExecuteTime": {
     "end_time": "2020-07-09T05:01:01.324735Z",
     "start_time": "2020-07-09T05:01:01.315732Z"
    }
   },
   "outputs": [
    {
     "name": "stdout",
     "output_type": "stream",
     "text": [
      "vwc                 10117\n",
      "wug                  1593\n",
      "water board           755\n",
      "wua                   583\n",
      "private operator      533\n",
      "parastatal            461\n",
      "other                 239\n",
      "water authority       219\n",
      "company               174\n",
      "unknown               122\n",
      "trust                  27\n",
      "other - school         27\n",
      "Name: management, dtype: int64\n",
      "Missing Value Count: 0\n",
      "****************************************************************************************************\n",
      "user-group    13048\n",
      "commercial      953\n",
      "parastatal      461\n",
      "other           266\n",
      "unknown         122\n",
      "Name: management_group, dtype: int64\n",
      "Missing Value Count: 0\n"
     ]
    }
   ],
   "source": [
    "# View the unique value counts on the data and print missing values\n",
    "# 'management'\n",
    "print(categorical_df.management.value_counts())\n",
    "print('Missing Value Count:', categorical_df.management.isnull().sum())\n",
    "print('*' * 100)\n",
    "\n",
    "# View the unique value counts on the data and print missing values\n",
    "# 'management_group'\n",
    "print(categorical_df.management_group.value_counts())\n",
    "print('Missing Value Count:', categorical_df.management_group.isnull().sum())\n",
    "\n",
    "# Add to the section's drop list\n",
    "categorical_to_drop_list = categorical_to_drop_list + ['management']\n",
    "\n",
    "# Add to the list to keep track of columns evaluated\n",
    "categorical_columns_evaluated = categorical_columns_evaluated + [\n",
    "    'management', 'management_group'\n",
    "]"
   ]
  },
  {
   "cell_type": "markdown",
   "metadata": {
    "ExecuteTime": {
     "end_time": "2020-07-07T16:48:34.515114Z",
     "start_time": "2020-07-07T16:48:34.511123Z"
    }
   },
   "source": [
    "#### 4.1.3 Payment and Payment_Type Correlation\n",
    "These columns are the same data with just a few character difference, but no difference in data. We can remove one of these columns without hesitation.\n",
    "- Remove 'payment'"
   ]
  },
  {
   "cell_type": "code",
   "execution_count": 26,
   "metadata": {
    "ExecuteTime": {
     "end_time": "2020-07-09T05:01:01.334737Z",
     "start_time": "2020-07-09T05:01:01.326735Z"
    }
   },
   "outputs": [
    {
     "name": "stdout",
     "output_type": "stream",
     "text": [
      "never pay                6364\n",
      "pay per bucket           2281\n",
      "pay monthly              2097\n",
      "unknown                  1992\n",
      "pay annually              928\n",
      "pay when scheme fails     928\n",
      "other                     260\n",
      "Name: payment, dtype: int64\n",
      "Missing Values: 0\n",
      "****************************************************************************************************\n",
      "never pay     6364\n",
      "per bucket    2281\n",
      "monthly       2097\n",
      "unknown       1992\n",
      "annually       928\n",
      "on failure     928\n",
      "other          260\n",
      "Name: payment_type, dtype: int64\n",
      "Missing Values: 0\n"
     ]
    }
   ],
   "source": [
    "# View the unique value counts on the data and print missing values\n",
    "# 'payment'\n",
    "print(categorical_df.payment.value_counts())\n",
    "print('Missing Values:', categorical_df.payment.isnull().sum())\n",
    "\n",
    "print('*' * 100)\n",
    "\n",
    "# View the unique value counts on the data and print missing values\n",
    "# 'payment_type'\n",
    "print(categorical_df.payment_type.value_counts())\n",
    "print('Missing Values:', categorical_df.payment_type.isnull().sum())\n",
    "\n",
    "# Add to the section's drop list\n",
    "categorical_to_drop_list = categorical_to_drop_list + ['payment']\n",
    "\n",
    "# Add to the list to keep track of columns evaluated\n",
    "categorical_columns_evaluated = categorical_columns_evaluated + [\n",
    "    'payment', 'payment_type'\n",
    "]"
   ]
  },
  {
   "cell_type": "markdown",
   "metadata": {
    "ExecuteTime": {
     "end_time": "2020-07-07T16:57:14.817965Z",
     "start_time": "2020-07-07T16:57:14.814961Z"
    }
   },
   "source": [
    "#### 4.1.4 Water Quality and Quality Group\n",
    "Unlike the other times when going with the column with the least unique features I believe this column holds a lot of important information, such as the salty abandonded"
   ]
  },
  {
   "cell_type": "code",
   "execution_count": 27,
   "metadata": {
    "ExecuteTime": {
     "end_time": "2020-07-09T05:01:01.344739Z",
     "start_time": "2020-07-09T05:01:01.335737Z"
    }
   },
   "outputs": [
    {
     "name": "stdout",
     "output_type": "stream",
     "text": [
      "soft                  12687\n",
      "salty                  1226\n",
      "unknown                 469\n",
      "milky                   201\n",
      "coloured                133\n",
      "salty abandoned          84\n",
      "fluoride                 44\n",
      "fluoride abandoned        6\n",
      "Name: water_quality, dtype: int64\n",
      "Missing Values: 0\n",
      "****************************************************************************************************\n",
      "good        12687\n",
      "salty        1310\n",
      "unknown       469\n",
      "milky         201\n",
      "colored       133\n",
      "fluoride       50\n",
      "Name: quality_group, dtype: int64\n",
      "Missing Values: 0\n"
     ]
    }
   ],
   "source": [
    "# View the unique value counts on the data and missing values\n",
    "# 'water_quality'\n",
    "print(categorical_df.water_quality.value_counts())\n",
    "print('Missing Values:', categorical_df.water_quality.isnull().sum())\n",
    "\n",
    "print('*' * 100)\n",
    "\n",
    "# View the unique value counts on the data and missing values\n",
    "# 'quality_group'\n",
    "print(categorical_df.quality_group.value_counts())\n",
    "print('Missing Values:', categorical_df.quality_group.isnull().sum())\n",
    "\n",
    "# Add to the section's drop list\n",
    "categorical_to_drop_list = categorical_to_drop_list + ['quality_group']\n",
    "\n",
    "# Add to the list to keep track of columns evaluated\n",
    "categorical_columns_evaluated = categorical_columns_evaluated + [\n",
    "    'water_quality', 'quality_group'\n",
    "]"
   ]
  },
  {
   "cell_type": "markdown",
   "metadata": {},
   "source": [
    "#### 4.1.5 Quantity Group and Quantity"
   ]
  },
  {
   "cell_type": "code",
   "execution_count": 28,
   "metadata": {
    "ExecuteTime": {
     "end_time": "2020-07-09T05:01:01.356742Z",
     "start_time": "2020-07-09T05:01:01.345739Z"
    }
   },
   "outputs": [
    {
     "name": "stdout",
     "output_type": "stream",
     "text": [
      "enough          8336\n",
      "insufficient    3767\n",
      "dry             1536\n",
      "seasonal        1025\n",
      "unknown          186\n",
      "Name: quantity, dtype: int64\n",
      "Missing Values: 0\n",
      "****************************************************************************************************\n",
      "enough          8336\n",
      "insufficient    3767\n",
      "dry             1536\n",
      "seasonal        1025\n",
      "unknown          186\n",
      "Name: quantity_group, dtype: int64\n",
      "Missing Values: 0\n"
     ]
    }
   ],
   "source": [
    "# View the unique value counts on the data and missing values\n",
    "# 'quantity'\n",
    "print(categorical_df.quantity.value_counts())\n",
    "print('Missing Values:', categorical_df.quantity.isnull().sum())\n",
    "\n",
    "print('*' * 100)\n",
    "\n",
    "# View the unique value counts on the data and missing values\n",
    "# 'quantity_group'\n",
    "print(categorical_df.quantity_group.value_counts())\n",
    "print('Missing Values:', categorical_df.quantity_group.isnull().sum())\n",
    "\n",
    "# Add to the section's drop list\n",
    "categorical_to_drop_list = categorical_to_drop_list + ['quantity_group']\n",
    "\n",
    "# Add to the list to keep track of columns evaluated\n",
    "categorical_columns_evaluated = categorical_columns_evaluated + [\n",
    "    'quantity', 'quantity_group'\n",
    "]"
   ]
  },
  {
   "cell_type": "markdown",
   "metadata": {},
   "source": [
    "#### 4.1.6 Source, Source type, Source Group"
   ]
  },
  {
   "cell_type": "code",
   "execution_count": 29,
   "metadata": {
    "ExecuteTime": {
     "end_time": "2020-07-09T05:01:01.369745Z",
     "start_time": "2020-07-09T05:01:01.357742Z"
    }
   },
   "outputs": [
    {
     "name": "stdout",
     "output_type": "stream",
     "text": [
      "shallow well            4316\n",
      "spring                  4195\n",
      "machine dbh             2747\n",
      "river                   2352\n",
      "rainwater harvesting     568\n",
      "hand dtw                 234\n",
      "lake                     185\n",
      "dam                      184\n",
      "other                     49\n",
      "unknown                   20\n",
      "Name: source, dtype: int64\n",
      "Missing Values: 0\n",
      "****************************************************************************************************\n",
      "groundwater    11492\n",
      "surface         3289\n",
      "unknown           69\n",
      "Name: source_class, dtype: int64\n",
      "Missing Values: 0\n",
      "****************************************************************************************************\n",
      "shallow well            4316\n",
      "spring                  4195\n",
      "borehole                2981\n",
      "river/lake              2537\n",
      "rainwater harvesting     568\n",
      "dam                      184\n",
      "other                     69\n",
      "Name: source_type, dtype: int64\n",
      "Missing Values: 0\n"
     ]
    }
   ],
   "source": [
    "# View the unique value counts on the data and missing values\n",
    "# 'source'\n",
    "print(categorical_df.source.value_counts())\n",
    "print('Missing Values:', categorical_df.source.isnull().sum())\n",
    "\n",
    "print('*' * 100)\n",
    "\n",
    "# View the unique value counts on the data and missing values\n",
    "# 'source_class'\n",
    "print(categorical_df.source_class.value_counts())\n",
    "print('Missing Values:', categorical_df.source_class.isnull().sum())\n",
    "\n",
    "print('*' * 100)\n",
    "\n",
    "# View the unique value counts on the data and missing values\n",
    "# 'source_type'\n",
    "print(categorical_df.source_type.value_counts())\n",
    "print('Missing Values:', categorical_df.source_type.isnull().sum())\n",
    "\n",
    "# Add to the section's drop list\n",
    "categorical_to_drop_list = categorical_to_drop_list + [\n",
    "    'quantity', 'source_type'\n",
    "]\n",
    "\n",
    "# Add to the list to keep track of columns evaluated\n",
    "categorical_columns_evaluated = categorical_columns_evaluated + [\n",
    "    'source', 'source_class', 'source_type'\n",
    "]"
   ]
  },
  {
   "cell_type": "markdown",
   "metadata": {},
   "source": [
    "#### 4.1.7 waterpoint_type_group and waterpoint_type\n",
    "- 1st iteration: pointed out earlier I will be going with the more simple "
   ]
  },
  {
   "cell_type": "code",
   "execution_count": 30,
   "metadata": {
    "ExecuteTime": {
     "end_time": "2020-07-09T05:01:01.380747Z",
     "start_time": "2020-07-09T05:01:01.370745Z"
    }
   },
   "outputs": [
    {
     "name": "stdout",
     "output_type": "stream",
     "text": [
      "communal standpipe             7106\n",
      "hand pump                      4396\n",
      "other                          1630\n",
      "communal standpipe multiple    1508\n",
      "improved spring                 175\n",
      "cattle trough                    34\n",
      "dam                               1\n",
      "Name: waterpoint_type, dtype: int64\n",
      "Missing Values: 0\n",
      "****************************************************************************************************\n",
      "communal standpipe    8614\n",
      "hand pump             4396\n",
      "other                 1630\n",
      "improved spring        175\n",
      "cattle trough           34\n",
      "dam                      1\n",
      "Name: waterpoint_type_group, dtype: int64\n",
      "Missing Values: 0\n"
     ]
    }
   ],
   "source": [
    "# View the unique value counts on the data and missing values\n",
    "# 'waterpoint_type'\n",
    "print(categorical_df.waterpoint_type.value_counts())\n",
    "print('Missing Values:', categorical_df.waterpoint_type.isnull().sum())\n",
    "\n",
    "print('*' * 100)\n",
    "\n",
    "# View the unique value counts on the data and missing values\n",
    "# 'waterpoint_type_group'\n",
    "print(categorical_df.waterpoint_type_group.value_counts())\n",
    "print('Missing Values:', categorical_df.waterpoint_type_group.isnull().sum())\n",
    "\n",
    "# Add to the section's drop list\n",
    "categorical_to_drop_list = categorical_to_drop_list + ['waterpoint_type']\n",
    "\n",
    "# Add to the list to keep track of columns evaluated\n",
    "categorical_columns_evaluated = categorical_columns_evaluated + [\n",
    "    'waterpoint_type', 'waterpoint_type_group'\n",
    "]"
   ]
  },
  {
   "cell_type": "markdown",
   "metadata": {
    "ExecuteTime": {
     "end_time": "2020-07-07T18:53:59.266547Z",
     "start_time": "2020-07-07T18:53:59.262545Z"
    }
   },
   "source": [
    "### 4.2 Analyzing High Cardinality Columns\n",
    "Here we will analyze the columns that have high cardinality. \n",
    "- 'date_recorded'\n",
    "- 'funder'\n",
    "- 'installer'\n",
    "- 'wpt_name'\n",
    "- 'subvillage'\n",
    "- 'lga'\n",
    "- 'ward'\n",
    "- 'scheme_name'"
   ]
  },
  {
   "cell_type": "code",
   "execution_count": 31,
   "metadata": {
    "ExecuteTime": {
     "end_time": "2020-07-09T05:01:01.384748Z",
     "start_time": "2020-07-09T05:01:01.381748Z"
    }
   },
   "outputs": [],
   "source": [
    "# Leftover columns List\n",
    "lefotver_categorical_list = np.setdiff1d(categorical_df.columns,\n",
    "                                         categorical_columns_evaluated)\n",
    "\n",
    "# Create a list of High Cardinality columns to evaluate\n",
    "high_cardinality_columns = [\n",
    "    'date_recorded', 'funder', 'installer', 'wpt_name', 'subvillage', 'lga',\n",
    "    'ward', 'scheme_name'\n",
    "]"
   ]
  },
  {
   "cell_type": "code",
   "execution_count": 32,
   "metadata": {
    "ExecuteTime": {
     "end_time": "2020-07-09T05:01:01.389749Z",
     "start_time": "2020-07-09T05:01:01.385748Z"
    }
   },
   "outputs": [
    {
     "data": {
      "text/plain": [
       "array(['basin', 'district_code', 'funder', 'installer', 'lga', 'permit',\n",
       "       'public_meeting', 'region', 'region_code', 'scheme_management',\n",
       "       'scheme_name', 'subvillage', 'ward', 'wpt_name'], dtype=object)"
      ]
     },
     "execution_count": 32,
     "metadata": {},
     "output_type": "execute_result"
    }
   ],
   "source": [
    "lefotver_categorical_list"
   ]
  },
  {
   "cell_type": "code",
   "execution_count": 33,
   "metadata": {
    "ExecuteTime": {
     "end_time": "2020-07-09T05:01:01.395750Z",
     "start_time": "2020-07-09T05:01:01.390749Z"
    }
   },
   "outputs": [
    {
     "data": {
      "text/plain": [
       "Index(['basin', 'district_code', 'extraction_type', 'extraction_type_class',\n",
       "       'extraction_type_group', 'funder', 'installer', 'lga', 'management',\n",
       "       'management_group', 'payment', 'payment_type', 'permit',\n",
       "       'public_meeting', 'quality_group', 'quantity', 'quantity_group',\n",
       "       'region', 'region_code', 'scheme_management', 'scheme_name', 'source',\n",
       "       'source_class', 'source_type', 'subvillage', 'ward', 'water_quality',\n",
       "       'waterpoint_type', 'waterpoint_type_group', 'wpt_name'],\n",
       "      dtype='object')"
      ]
     },
     "execution_count": 33,
     "metadata": {},
     "output_type": "execute_result"
    }
   ],
   "source": [
    "categorical_df.columns"
   ]
  },
  {
   "cell_type": "markdown",
   "metadata": {
    "ExecuteTime": {
     "end_time": "2020-07-07T19:14:22.250898Z",
     "start_time": "2020-07-07T19:14:22.247880Z"
    }
   },
   "source": [
    "#### 4.2.1 Date Recorded\n",
    "- 1st iteration as we saw earlier Date Recorded does not seem to be very helpful at this time and we will drop this column."
   ]
  },
  {
   "cell_type": "code",
   "execution_count": 34,
   "metadata": {
    "ExecuteTime": {
     "end_time": "2020-07-09T05:01:01.399752Z",
     "start_time": "2020-07-09T05:01:01.396751Z"
    }
   },
   "outputs": [],
   "source": [
    "# Add this column to the list to keep track of it being evaluated\n",
    "#categorical_columns_evaluated = categorical_columns_evaluated + [\n",
    "#    'date_recorded'\n",
    "#]\n",
    "\n",
    "# Set data type to datetime\n",
    "#categorical_df.date_recorded = pd.to_datetime(categorical_df.date_recorded)\n",
    "\n",
    "# Examine the years of the dates recorded\n",
    "#categorical_df.date_recorded.dt.year.value_counts()\n",
    "\n",
    "# Add this to the categorical drop list\n",
    "#categorical_to_drop_list = categorical_to_drop_list + ['date_recorded']"
   ]
  },
  {
   "cell_type": "markdown",
   "metadata": {
    "ExecuteTime": {
     "end_time": "2020-07-07T20:01:59.148539Z",
     "start_time": "2020-07-07T20:01:59.141513Z"
    }
   },
   "source": [
    "#### 4.2.2 Funder Data\n",
    "- 1st iteration used top 5 data"
   ]
  },
  {
   "cell_type": "code",
   "execution_count": 35,
   "metadata": {
    "ExecuteTime": {
     "end_time": "2020-07-09T05:01:01.420756Z",
     "start_time": "2020-07-09T05:01:01.400752Z"
    }
   },
   "outputs": [
    {
     "name": "stdout",
     "output_type": "stream",
     "text": [
      "Missing Values: 869\n",
      "Number of Categories labeled: 5\n",
      "Missing Values After: 0\n",
      "Percent of data labeled: 30.58%\n"
     ]
    }
   ],
   "source": [
    "# Add this column to the list to keep track of it being evaluated\n",
    "categorical_columns_evaluated = categorical_columns_evaluated + ['funder']\n",
    "\n",
    "# Examine the counts of each category\n",
    "categorical_df.funder.value_counts()\n",
    "\n",
    "# Get missing values\n",
    "print('Missing Values:', categorical_df.funder.isnull().sum())\n",
    "\n",
    "# Find and create list for top 5 funders\n",
    "top_funders = categorical_df.funder.value_counts().index.tolist()[:5]\n",
    "\n",
    "# Print the number of categorical data selected\n",
    "print('Number of Categories labeled:',len(top_funders))\n",
    "\n",
    "# if funder not in top_funders list reclassify as 'unkown/other'\n",
    "categorical_df['top_funders'] = categorical_df.funder.apply(\n",
    "    lambda x: x if x in top_funders else 'other/unkown')\n",
    "\n",
    "# Check to make sure there are no missing values in the new columns\n",
    "print('Missing Values After:',categorical_df.top_funders.isnull().sum())\n",
    "\n",
    "# What percent of the data is our top 5 funders?\n",
    "print(f'Percent of data labeled: {categorical_df.funder.value_counts(normalize=True).head(5).sum():.2%}')\n",
    "\n",
    "# Add this column to the list to keep track of it being evaluated\n",
    "categorical_columns_evaluated = categorical_columns_evaluated + ['top_funders']\n",
    "\n",
    "# Add funder to list of columns to be removed\n",
    "categorical_to_drop_list = categorical_to_drop_list + ['funder']"
   ]
  },
  {
   "cell_type": "markdown",
   "metadata": {},
   "source": [
    "#### 4.2.3 Installer Data\n",
    "- 1st iteration used top 5 values"
   ]
  },
  {
   "cell_type": "code",
   "execution_count": 36,
   "metadata": {
    "ExecuteTime": {
     "end_time": "2020-07-09T05:01:01.437760Z",
     "start_time": "2020-07-09T05:01:01.421756Z"
    }
   },
   "outputs": [
    {
     "name": "stdout",
     "output_type": "stream",
     "text": [
      "Missing Values: 877\n",
      "Number of Categories labeled: 5\n",
      "Missing Values After: 0\n",
      "Percent of data labeled: 40.36%\n"
     ]
    }
   ],
   "source": [
    "# Add this column to the list to keep track of it being evaluated\n",
    "categorical_columns_evaluated = categorical_columns_evaluated + ['installer']\n",
    "\n",
    "# Examine the counts of each category\n",
    "categorical_df.installer.value_counts()\n",
    "\n",
    "# Get missing values\n",
    "print('Missing Values:', categorical_df.installer.isnull().sum())\n",
    "\n",
    "# Find and create list for top 5 installers\n",
    "top_installers = categorical_df.installer.value_counts().index.tolist()[:5]\n",
    "\n",
    "# Print the number of categorical data selected\n",
    "print('Number of Categories labeled:',len(top_installers))\n",
    "\n",
    "# if installer not in top_installers list reclassify as 'unkown/other'\n",
    "categorical_df['top_installers'] = categorical_df.installer.apply(\n",
    "    lambda x: x if x in top_installers else 'other/unkown')\n",
    "\n",
    "# Check to make sure there are no missing values in the new columns\n",
    "print('Missing Values After:',categorical_df.top_installers.isnull().sum())\n",
    "\n",
    "# What percent of the data is our top 5 installers?\n",
    "print(f'Percent of data labeled: {categorical_df.installer.value_counts(normalize=True).head(5).sum():.2%}')\n",
    "\n",
    "# Add this column to the list to keep track of it being evaluated\n",
    "categorical_columns_evaluated = categorical_columns_evaluated + ['top_installers']\n",
    "\n",
    "# Add installer to list of columns to be removed\n",
    "categorical_to_drop_list = categorical_to_drop_list + ['installer']"
   ]
  },
  {
   "cell_type": "markdown",
   "metadata": {},
   "source": [
    "#### 4.2.4 Waypoint Data\n",
    "- 1st iteration used top 5 values\n"
   ]
  },
  {
   "cell_type": "code",
   "execution_count": 37,
   "metadata": {
    "ExecuteTime": {
     "end_time": "2020-07-09T05:01:01.461765Z",
     "start_time": "2020-07-09T05:01:01.438760Z"
    }
   },
   "outputs": [
    {
     "name": "stdout",
     "output_type": "stream",
     "text": [
      "Missing Values: 0\n",
      "Number of Categories labeled: 5\n",
      "Missing Values After: 0\n",
      "Percent of data labeled: 11.42%\n"
     ]
    }
   ],
   "source": [
    "# Add this column to the list to keep track of it being evaluated\n",
    "categorical_columns_evaluated = categorical_columns_evaluated + ['wpt_name']\n",
    "\n",
    "# Examine the counts of each category\n",
    "categorical_df.wpt_name.value_counts()\n",
    "\n",
    "# Get missing values\n",
    "print('Missing Values:', categorical_df.wpt_name.isnull().sum())\n",
    "\n",
    "# Find and create list for top 5 waypoints\n",
    "top_wpt_names = categorical_df.wpt_name.value_counts().index.tolist()[:5]\n",
    "\n",
    "# Print the number of categorical data selected\n",
    "print('Number of Categories labeled:',len(top_wpt_names))\n",
    "\n",
    "# if funder not in top_wpt_names list reclassify as 'unkown/other'\n",
    "categorical_df['top_wpt_names'] = categorical_df.wpt_name.apply(\n",
    "    lambda x: x if x in top_wpt_names else 'other/unkown')\n",
    "\n",
    "# Check to make sure there are no missing values in the new columns\n",
    "print('Missing Values After:',categorical_df.top_wpt_names.isnull().sum())\n",
    "\n",
    "# What percent of the data is our top 5 waypoints?\n",
    "print(f'Percent of data labeled: {categorical_df.wpt_name.value_counts(normalize=True).head(5).sum():.2%}')\n",
    "\n",
    "# Add this column to the list to keep track of it being evaluated\n",
    "categorical_columns_evaluated = categorical_columns_evaluated + ['top_wpt_names']\n",
    "\n",
    "# Add funder to list of columns to be removed\n",
    "categorical_to_drop_list = categorical_to_drop_list + ['wpt_name']"
   ]
  },
  {
   "cell_type": "markdown",
   "metadata": {
    "ExecuteTime": {
     "end_time": "2020-07-07T23:04:11.706787Z",
     "start_time": "2020-07-07T23:04:10.137Z"
    }
   },
   "source": [
    "#### 4.2.5 Subvillage Data\n",
    "- 1st iteration used top 10 values"
   ]
  },
  {
   "cell_type": "code",
   "execution_count": 38,
   "metadata": {
    "ExecuteTime": {
     "end_time": "2020-07-09T05:01:01.483771Z",
     "start_time": "2020-07-09T05:01:01.462766Z"
    }
   },
   "outputs": [
    {
     "name": "stdout",
     "output_type": "stream",
     "text": [
      "Missing Values: 99\n",
      "Number of Categories labeled: 10\n",
      "Missing Values After: 0\n",
      "Percent of data labeled: 5.41%\n"
     ]
    }
   ],
   "source": [
    "# Add this column to the list to keep track of it being evaluated\n",
    "categorical_columns_evaluated = categorical_columns_evaluated + ['subvillage']\n",
    "\n",
    "# Examine the counts of each category\n",
    "categorical_df.subvillage.value_counts()\n",
    "\n",
    "# Get missing values\n",
    "print('Missing Values:', categorical_df.subvillage.isnull().sum())\n",
    "\n",
    "# Find and create list for top 5 subvillages\n",
    "top_subvillage = categorical_df.subvillage.value_counts().index.tolist()[:10]\n",
    "\n",
    "# Print the number of categorical data selected\n",
    "print('Number of Categories labeled:', len(top_subvillage))\n",
    "\n",
    "# if funder not in top_subvillage list reclassify as 'unkown/other'\n",
    "categorical_df['top_subvillage'] = categorical_df.subvillage.apply(\n",
    "    lambda x: x if x in top_subvillage else 'other/unkown')\n",
    "\n",
    "# Check to make sure there are no missing values in the new columns\n",
    "print('Missing Values After:', categorical_df.top_subvillage.isnull().sum())\n",
    "\n",
    "# What percent of the data is our top 5 subvillages?\n",
    "print(\n",
    "    f'Percent of data labeled: {categorical_df.subvillage.value_counts(normalize=True).head(len(top_subvillage)).sum():.2%}'\n",
    ")\n",
    "\n",
    "# Add this column to the list to keep track of it being evaluated\n",
    "categorical_columns_evaluated = categorical_columns_evaluated + [\n",
    "    'top_subvillage'\n",
    "]\n",
    "\n",
    "# Add funder to list of columns to be removed\n",
    "categorical_to_drop_list = categorical_to_drop_list + ['subvillage']"
   ]
  },
  {
   "cell_type": "markdown",
   "metadata": {},
   "source": [
    "#### 4.2.6 Local Government Authority  (lga)\n",
    "- 1st iteration: used top 5 values"
   ]
  },
  {
   "cell_type": "code",
   "execution_count": 39,
   "metadata": {
    "ExecuteTime": {
     "end_time": "2020-07-09T05:01:01.498774Z",
     "start_time": "2020-07-09T05:01:01.484771Z"
    }
   },
   "outputs": [
    {
     "name": "stdout",
     "output_type": "stream",
     "text": [
      "Missing Values: 0\n",
      "Number of Categories labeled: 5\n",
      "Missing Values After: 0\n",
      "Percent of data labeled: 12.11%\n"
     ]
    }
   ],
   "source": [
    "# Add this column to the list to keep track of it being evaluated\n",
    "categorical_columns_evaluated = categorical_columns_evaluated + ['lga']\n",
    "\n",
    "# Examine the counts of each category\n",
    "categorical_df.lga.value_counts()\n",
    "\n",
    "# Get missing values\n",
    "print('Missing Values:', categorical_df.lga.isnull().sum())\n",
    "\n",
    "# Find and create list for top 5 subvillages\n",
    "top_lga = categorical_df.lga.value_counts().index.tolist()[:5]\n",
    "\n",
    "# Print the number of categorical data selected\n",
    "print('Number of Categories labeled:',len(top_lga))\n",
    "\n",
    "# if funder not in top_lga list reclassify as 'unkown/other'\n",
    "categorical_df['top_lga'] = categorical_df.lga.apply(\n",
    "    lambda x: x if x in top_lga else 'other/unkown')\n",
    "\n",
    "# Check to make sure there are no missing values in the new columns\n",
    "print('Missing Values After:',categorical_df.top_lga.isnull().sum())\n",
    "\n",
    "# What percent of the data is our top 5 subvillages?\n",
    "print(f'Percent of data labeled: {categorical_df.lga.value_counts(normalize=True).head(5).sum():.2%}')\n",
    "\n",
    "# Add this column to the list to keep track of it being evaluated\n",
    "categorical_columns_evaluated = categorical_columns_evaluated + ['top_lga']\n",
    "\n",
    "# Add funder to list of columns to be removed\n",
    "categorical_to_drop_list = categorical_to_drop_list + ['lga']"
   ]
  },
  {
   "cell_type": "markdown",
   "metadata": {},
   "source": [
    "#### 4.2.7 Ward Data\n",
    "- 1st iteration: used top 5 wards"
   ]
  },
  {
   "cell_type": "code",
   "execution_count": 40,
   "metadata": {
    "ExecuteTime": {
     "end_time": "2020-07-09T05:01:01.516779Z",
     "start_time": "2020-07-09T05:01:01.499774Z"
    }
   },
   "outputs": [
    {
     "name": "stdout",
     "output_type": "stream",
     "text": [
      "Missing Values: 0\n",
      "Number of Categories labeled: 5\n",
      "Missing Values After: 0\n",
      "Percent of data labeled: 2.21%\n"
     ]
    }
   ],
   "source": [
    "# Add this column to the list to keep track of it being evaluated\n",
    "categorical_columns_evaluated = categorical_columns_evaluated + ['ward']\n",
    "\n",
    "# Examine the counts of each category\n",
    "categorical_df.ward.value_counts()\n",
    "\n",
    "# Get missing values\n",
    "print('Missing Values:', categorical_df.ward.isnull().sum())\n",
    "\n",
    "# Find and create list for top 5 subvillages\n",
    "top_ward = categorical_df.ward.value_counts().index.tolist()[:5]\n",
    "\n",
    "# Print the number of categorical data selected\n",
    "print('Number of Categories labeled:',len(top_ward))\n",
    "\n",
    "# if funder not in top_ward list reclassify as 'unkown/other'\n",
    "categorical_df['top_ward'] = categorical_df.ward.apply(\n",
    "    lambda x: x if x in top_ward else 'other/unkown')\n",
    "\n",
    "# Check to make sure there are no missing values in the new columns\n",
    "print('Missing Values After:',categorical_df.top_ward.isnull().sum())\n",
    "\n",
    "# What percent of the data is our top 5 subvillages?\n",
    "print(f'Percent of data labeled: {categorical_df.ward.value_counts(normalize=True).head(5).sum():.2%}')\n",
    "\n",
    "# Add this column to the list to keep track of it being evaluated\n",
    "categorical_columns_evaluated = categorical_columns_evaluated + ['top_ward']\n",
    "\n",
    "# Add funder to list of columns to be removed\n",
    "categorical_to_drop_list = categorical_to_drop_list + ['ward']"
   ]
  },
  {
   "cell_type": "markdown",
   "metadata": {},
   "source": [
    "#### 4.2.8 Scheme Name Data\n",
    "- 1st iteration used top 5 highest counts"
   ]
  },
  {
   "cell_type": "code",
   "execution_count": 41,
   "metadata": {
    "ExecuteTime": {
     "end_time": "2020-07-09T05:01:01.535782Z",
     "start_time": "2020-07-09T05:01:01.517778Z"
    }
   },
   "outputs": [
    {
     "name": "stdout",
     "output_type": "stream",
     "text": [
      "Missing Values: 7092\n",
      "Number of Categories labeled: 5\n",
      "Missing Values After: 0\n",
      "Percent of data labeled: 8.82%\n"
     ]
    }
   ],
   "source": [
    "# Add this column to the list to keep track of it being evaluated\n",
    "categorical_columns_evaluated = categorical_columns_evaluated + ['scheme_name']\n",
    "\n",
    "# Examine the counts of each category\n",
    "categorical_df.scheme_name.value_counts()\n",
    "\n",
    "# Get missing values\n",
    "print('Missing Values:', categorical_df.scheme_name.isnull().sum())\n",
    "\n",
    "# Find and create list for top 5 subvillages\n",
    "top_scheme_name = categorical_df.scheme_name.value_counts().index.tolist()[:5]\n",
    "\n",
    "# Print the number of categorical data selected\n",
    "print('Number of Categories labeled:',len(top_scheme_name))\n",
    "\n",
    "# if funder not in top_scheme_name list reclassify as 'unkown/other'\n",
    "categorical_df['top_scheme_name'] = categorical_df.scheme_name.apply(\n",
    "    lambda x: x if x in top_scheme_name else 'other/unkown')\n",
    "\n",
    "# Check to make sure there are no missing values in the new columns\n",
    "print('Missing Values After:',categorical_df.top_scheme_name.isnull().sum())\n",
    "\n",
    "# What percent of the data is our top 5 subvillages?\n",
    "print(f'Percent of data labeled: {categorical_df.scheme_name.value_counts(normalize=True).head(5).sum():.2%}')\n",
    "\n",
    "# Add this column to the list to keep track of it being evaluated\n",
    "categorical_columns_evaluated = categorical_columns_evaluated + ['top_scheme_name']\n",
    "\n",
    "# Add funder to list of columns to be removed\n",
    "categorical_to_drop_list = categorical_to_drop_list + ['scheme_name']"
   ]
  },
  {
   "cell_type": "markdown",
   "metadata": {},
   "source": [
    "### 4.3  Categorical Columns with no warnings\n",
    "The columns we have left do not have any major red flags. There is neither high cardinality nor very high correlation. There will be some correlation is region code, region, and district however. \n",
    "- 1st iteration columns before cleaning/exploration<br/>\n",
    "'basin', 'district_code', 'permit', 'public_meeting', 'region', 'region_code', 'scheme_management'"
   ]
  },
  {
   "cell_type": "code",
   "execution_count": 42,
   "metadata": {
    "ExecuteTime": {
     "end_time": "2020-07-09T05:01:01.538783Z",
     "start_time": "2020-07-09T05:01:01.536783Z"
    }
   },
   "outputs": [
    {
     "name": "stdout",
     "output_type": "stream",
     "text": [
      "['basin' 'district_code' 'permit' 'public_meeting' 'region' 'region_code'\n",
      " 'scheme_management']\n"
     ]
    }
   ],
   "source": [
    "# yields the elements in `list_2` that are NOT in `list_1`\n",
    "print(np.setdiff1d((lefotver_categorical_list), (categorical_columns_evaluated)))"
   ]
  },
  {
   "cell_type": "markdown",
   "metadata": {},
   "source": [
    "#### 4.3.1 Basin Data\n",
    "- 1st Iteration: data looks good to go"
   ]
  },
  {
   "cell_type": "code",
   "execution_count": 43,
   "metadata": {
    "ExecuteTime": {
     "end_time": "2020-07-09T05:01:01.546785Z",
     "start_time": "2020-07-09T05:01:01.539783Z"
    }
   },
   "outputs": [
    {
     "data": {
      "text/plain": [
       "Lake Victoria              2623\n",
       "Pangani                    2203\n",
       "Rufiji                     2011\n",
       "Internal                   1857\n",
       "Lake Tanganyika            1620\n",
       "Wami / Ruvu                1590\n",
       "Lake Nyasa                 1247\n",
       "Ruvuma / Southern Coast    1094\n",
       "Lake Rukwa                  605\n",
       "Name: basin, dtype: int64"
      ]
     },
     "execution_count": 43,
     "metadata": {},
     "output_type": "execute_result"
    }
   ],
   "source": [
    "# Add this column to the list to keep track of it being evaluated\n",
    "categorical_columns_evaluated = categorical_columns_evaluated + ['basin']\n",
    "\n",
    "# Examine the counts of each category\n",
    "categorical_df.basin.value_counts()"
   ]
  },
  {
   "cell_type": "markdown",
   "metadata": {
    "ExecuteTime": {
     "end_time": "2020-07-08T00:39:26.664329Z",
     "start_time": "2020-07-08T00:39:26.661328Z"
    }
   },
   "source": [
    "#### 4.3.2 District Code\n",
    "Have no idea what this refers to besides some geographical location\n",
    "- 1st Iteration: Drop this column as we have more than enough geographical data"
   ]
  },
  {
   "cell_type": "code",
   "execution_count": 44,
   "metadata": {
    "ExecuteTime": {
     "end_time": "2020-07-09T05:01:01.551786Z",
     "start_time": "2020-07-09T05:01:01.547785Z"
    }
   },
   "outputs": [],
   "source": [
    "# Add this column to the list to keep track of it being evaluated\n",
    "categorical_columns_evaluated = categorical_columns_evaluated + ['district_code']\n",
    "\n",
    "# Examine the counts of each category\n",
    "categorical_df.district_code.value_counts()\n",
    "\n",
    "len(categorical_df.district_code.unique())\n",
    "\n",
    "#Missing values\n",
    "categorical_df.district_code.isnull().sum()\n",
    "\n",
    "# Add to drop list\n",
    "categorical_to_drop_list = categorical_to_drop_list + ['district_code']"
   ]
  },
  {
   "cell_type": "markdown",
   "metadata": {
    "ExecuteTime": {
     "end_time": "2020-07-08T00:39:28.892832Z",
     "start_time": "2020-07-08T00:39:28.888831Z"
    }
   },
   "source": [
    "#### 4.3.3 Permit Data\n",
    "Because Permit Data is binary and has 3000 missing values we will leave it out of the final df for now. We may come back later and impute some values into these as it does have a propensity for more true than false values"
   ]
  },
  {
   "cell_type": "code",
   "execution_count": 45,
   "metadata": {
    "ExecuteTime": {
     "end_time": "2020-07-09T05:01:01.556786Z",
     "start_time": "2020-07-09T05:01:01.552786Z"
    }
   },
   "outputs": [],
   "source": [
    "# Add this column to the list to keep track of it being evaluated\n",
    "categorical_columns_evaluated = categorical_columns_evaluated + ['permit']\n",
    "\n",
    "# View the ratio of true valeus to see if there are a lot more wells that have permits and are functional\n",
    "#print(categorical_df.groupby('status_group').permit.count())\n",
    "\n",
    "# View missing data count\n",
    "categorical_df.permit.isnull().sum()\n",
    "\n",
    "# Add to drop list\n",
    "categorical_to_drop_list = categorical_to_drop_list + ['permit']"
   ]
  },
  {
   "cell_type": "markdown",
   "metadata": {},
   "source": [
    "#### 4.3.4 Public Meeting Data\n",
    "Once again we have no information on what this data means. This is a binary column and thats about all we know.The value counts for this category are nearly identical to the permit data. \n",
    "- 1st iteration: we will drop this column as well"
   ]
  },
  {
   "cell_type": "code",
   "execution_count": 46,
   "metadata": {
    "ExecuteTime": {
     "end_time": "2020-07-09T05:01:01.561788Z",
     "start_time": "2020-07-09T05:01:01.557787Z"
    },
    "scrolled": true
   },
   "outputs": [],
   "source": [
    "# Add this column to the list to keep track of it being evaluated\n",
    "categorical_columns_evaluated = categorical_columns_evaluated + ['public_meeting']\n",
    "\n",
    "# View the ratio of true valeus to see if there are a lot more wells that have permits and are functional\n",
    "#categorical_df.groupby('status_group').count().public_meeting\n",
    "\n",
    "# Add to drop list\n",
    "categorical_to_drop_list = categorical_to_drop_list + ['public_meeting']"
   ]
  },
  {
   "cell_type": "markdown",
   "metadata": {},
   "source": [
    "#### 4.3.5 Region\n",
    "We have plenty of geographical data by now. However, we will leave this in hoping the feature selection methods we choose in preprocessing will eliminate anything that is not worthy of consideration.\n",
    "- 1st iteration we will leave this column in as it has no missing values"
   ]
  },
  {
   "cell_type": "code",
   "execution_count": 47,
   "metadata": {
    "ExecuteTime": {
     "end_time": "2020-07-09T05:01:01.569789Z",
     "start_time": "2020-07-09T05:01:01.562789Z"
    }
   },
   "outputs": [
    {
     "name": "stdout",
     "output_type": "stream",
     "text": [
      "Shinyanga        1311\n",
      "Iringa           1305\n",
      "Mbeya            1119\n",
      "Kilimanjaro      1115\n",
      "Morogoro         1032\n",
      "Kagera            858\n",
      "Mwanza            795\n",
      "Arusha            761\n",
      "Kigoma            717\n",
      "Pwani             696\n",
      "Ruvuma            666\n",
      "Tanga             639\n",
      "Dodoma            578\n",
      "Tabora            507\n",
      "Mara              482\n",
      "Singida           443\n",
      "Rukwa             434\n",
      "Mtwara            414\n",
      "Manyara           389\n",
      "Lindi             374\n",
      "Dar es Salaam     215\n",
      "Name: region, dtype: int64\n",
      "0\n"
     ]
    }
   ],
   "source": [
    "# Add this column to the list to keep track of it being evaluated\n",
    "categorical_columns_evaluated = categorical_columns_evaluated + ['region']\n",
    "\n",
    "# Check distribution between categories\n",
    "print(categorical_df.region.value_counts())\n",
    "\n",
    "# Check missing values\n",
    "print(categorical_df.region.isnull().sum())"
   ]
  },
  {
   "cell_type": "markdown",
   "metadata": {},
   "source": [
    "#### 4.3.6 Region Code\n",
    "Once again, this is another coded geographical region that we are not privy to see how it is coded. \n",
    "- 1st iteration: Drop this column as we have plenty geographic information"
   ]
  },
  {
   "cell_type": "code",
   "execution_count": 48,
   "metadata": {
    "ExecuteTime": {
     "end_time": "2020-07-09T05:01:01.573791Z",
     "start_time": "2020-07-09T05:01:01.570790Z"
    },
    "scrolled": false
   },
   "outputs": [],
   "source": [
    "# Add this column to the list to keep track of it being evaluated\n",
    "categorical_columns_evaluated = categorical_columns_evaluated + ['region_code']\n",
    "\n",
    "# View the ratio of true valeus to see if there are a lot more wells that have permits and are functional\n",
    "#categorical_df.groupby(['region_code','status_group']).region_code.count().head(10)\n",
    "\n",
    "# Add to drop list\n",
    "categorical_to_drop_list = categorical_to_drop_list + ['region_code']"
   ]
  },
  {
   "cell_type": "markdown",
   "metadata": {},
   "source": [
    "#### 4.3.6 Scheme Management\n",
    "We already have scheme name in here which was bucketed in the high cardinality section.\n",
    "- 1st iteration : Remove because we already have scheme name and this has missing values"
   ]
  },
  {
   "cell_type": "code",
   "execution_count": 49,
   "metadata": {
    "ExecuteTime": {
     "end_time": "2020-07-09T05:01:01.582793Z",
     "start_time": "2020-07-09T05:01:01.574793Z"
    }
   },
   "outputs": [],
   "source": [
    "# Add this column to the list to keep track of it being evaluated\n",
    "categorical_columns_evaluated = categorical_columns_evaluated + ['scheme_management']\n",
    "\n",
    "# View distribution of categories\n",
    "categorical_df.scheme_management.value_counts()\n",
    "\n",
    "# Check for missing values\n",
    "categorical_df.scheme_management.isnull().sum()\n",
    "\n",
    "# Add to drop list\n",
    "categorical_to_drop_list = categorical_to_drop_list + ['scheme_management']"
   ]
  },
  {
   "cell_type": "markdown",
   "metadata": {},
   "source": [
    "### 4.4 Make sure all columns have been evaluated"
   ]
  },
  {
   "cell_type": "code",
   "execution_count": 50,
   "metadata": {
    "ExecuteTime": {
     "end_time": "2020-07-09T05:01:01.587794Z",
     "start_time": "2020-07-09T05:01:01.583792Z"
    }
   },
   "outputs": [
    {
     "name": "stdout",
     "output_type": "stream",
     "text": [
      "Columns to be dropped: ['extraction_type', 'extraction_type_group', 'management', 'payment', 'quality_group', 'quantity_group', 'quantity', 'source_type', 'waterpoint_type', 'funder', 'installer', 'wpt_name', 'subvillage', 'lga', 'ward', 'scheme_name', 'district_code', 'permit', 'public_meeting', 'region_code', 'scheme_management']\n",
      "****************************************************************************************************\n",
      "Columns that were missed in evaluation: []\n"
     ]
    }
   ],
   "source": [
    "# View which columns will be dropped\n",
    "print('Columns to be dropped:',categorical_to_drop_list)\n",
    "print('*'*100)\n",
    "\n",
    "# Look at main df and select only the categorical values we have left\n",
    "# yields the elements in `list_2` that are NOT in `list_1`\n",
    "print('Columns that were missed in evaluation:',np.setdiff1d(categorical_columns_evaluated, categorical_df.columns))"
   ]
  },
  {
   "cell_type": "markdown",
   "metadata": {},
   "source": [
    "# Section 5 Combining into a Final DF and Saving as CSV"
   ]
  },
  {
   "cell_type": "code",
   "execution_count": 51,
   "metadata": {
    "ExecuteTime": {
     "end_time": "2020-07-09T05:01:01.602797Z",
     "start_time": "2020-07-09T05:01:01.588795Z"
    }
   },
   "outputs": [],
   "source": [
    "# Make sure list contains all unique values and append status group so the two DFs do not overlap\n",
    "categorical_to_drop_list = list(set(categorical_to_drop_list))\n",
    "\n",
    "# Make sure list is all unique before dropping\n",
    "numerical_columns_to_drop = list(set(numerical_columns_to_drop))\n",
    "\n",
    "# Drop categorical columns from categorical df\n",
    "categorical_df.drop(columns=categorical_to_drop_list,inplace=True)\n",
    "\n",
    "# Drop numerical columns from numerical df\n",
    "numerical_df.drop(columns=numerical_columns_to_drop,inplace=True)\n",
    "\n"
   ]
  },
  {
   "cell_type": "code",
   "execution_count": 52,
   "metadata": {
    "ExecuteTime": {
     "end_time": "2020-07-09T05:01:01.607798Z",
     "start_time": "2020-07-09T05:01:01.603798Z"
    },
    "scrolled": true
   },
   "outputs": [
    {
     "data": {
      "text/plain": [
       "['funder',\n",
       " 'ward',\n",
       " 'subvillage',\n",
       " 'permit',\n",
       " 'public_meeting',\n",
       " 'source_type',\n",
       " 'extraction_type_group',\n",
       " 'wpt_name',\n",
       " 'extraction_type',\n",
       " 'quantity',\n",
       " 'lga',\n",
       " 'quantity_group',\n",
       " 'installer',\n",
       " 'district_code',\n",
       " 'waterpoint_type',\n",
       " 'quality_group',\n",
       " 'payment',\n",
       " 'scheme_management',\n",
       " 'management',\n",
       " 'region_code',\n",
       " 'scheme_name']"
      ]
     },
     "execution_count": 52,
     "metadata": {},
     "output_type": "execute_result"
    }
   ],
   "source": [
    "categorical_to_drop_list"
   ]
  },
  {
   "cell_type": "code",
   "execution_count": 53,
   "metadata": {
    "ExecuteTime": {
     "end_time": "2020-07-09T05:01:01.616800Z",
     "start_time": "2020-07-09T05:01:01.608798Z"
    }
   },
   "outputs": [
    {
     "data": {
      "text/plain": [
       "Index(['gps_height', 'longitude', 'latitude', 'positive_head',\n",
       "       'construction_decade', 'basin', 'extraction_type_class',\n",
       "       'management_group', 'payment_type', 'region', 'source', 'source_class',\n",
       "       'water_quality', 'waterpoint_type_group', 'top_funders',\n",
       "       'top_installers', 'top_wpt_names', 'top_subvillage', 'top_lga',\n",
       "       'top_ward', 'top_scheme_name'],\n",
       "      dtype='object')"
      ]
     },
     "execution_count": 53,
     "metadata": {},
     "output_type": "execute_result"
    }
   ],
   "source": [
    "final_df = numerical_df.join(categorical_df,on='id')\n",
    "\n",
    "final_df.columns"
   ]
  },
  {
   "cell_type": "code",
   "execution_count": 57,
   "metadata": {
    "ExecuteTime": {
     "end_time": "2020-07-09T05:03:10.277838Z",
     "start_time": "2020-07-09T05:03:10.250840Z"
    }
   },
   "outputs": [
    {
     "data": {
      "text/html": [
       "<div>\n",
       "<style scoped>\n",
       "    .dataframe tbody tr th:only-of-type {\n",
       "        vertical-align: middle;\n",
       "    }\n",
       "\n",
       "    .dataframe tbody tr th {\n",
       "        vertical-align: top;\n",
       "    }\n",
       "\n",
       "    .dataframe thead th {\n",
       "        text-align: right;\n",
       "    }\n",
       "</style>\n",
       "<table border=\"1\" class=\"dataframe\">\n",
       "  <thead>\n",
       "    <tr style=\"text-align: right;\">\n",
       "      <th></th>\n",
       "      <th>id</th>\n",
       "      <th>gps_height</th>\n",
       "      <th>longitude</th>\n",
       "      <th>latitude</th>\n",
       "      <th>positive_head</th>\n",
       "      <th>construction_decade</th>\n",
       "      <th>basin</th>\n",
       "      <th>extraction_type_class</th>\n",
       "      <th>management_group</th>\n",
       "      <th>payment_type</th>\n",
       "      <th>...</th>\n",
       "      <th>source_class</th>\n",
       "      <th>water_quality</th>\n",
       "      <th>waterpoint_type_group</th>\n",
       "      <th>top_funders</th>\n",
       "      <th>top_installers</th>\n",
       "      <th>top_wpt_names</th>\n",
       "      <th>top_subvillage</th>\n",
       "      <th>top_lga</th>\n",
       "      <th>top_ward</th>\n",
       "      <th>top_scheme_name</th>\n",
       "    </tr>\n",
       "  </thead>\n",
       "  <tbody>\n",
       "    <tr>\n",
       "      <th>0</th>\n",
       "      <td>50785</td>\n",
       "      <td>1996</td>\n",
       "      <td>35.290799</td>\n",
       "      <td>-4.059696</td>\n",
       "      <td>0</td>\n",
       "      <td>2010+</td>\n",
       "      <td>Internal</td>\n",
       "      <td>other</td>\n",
       "      <td>parastatal</td>\n",
       "      <td>never pay</td>\n",
       "      <td>...</td>\n",
       "      <td>surface</td>\n",
       "      <td>soft</td>\n",
       "      <td>other</td>\n",
       "      <td>other/unkown</td>\n",
       "      <td>other/unkown</td>\n",
       "      <td>other/unkown</td>\n",
       "      <td>other/unkown</td>\n",
       "      <td>other/unkown</td>\n",
       "      <td>other/unkown</td>\n",
       "      <td>other/unkown</td>\n",
       "    </tr>\n",
       "    <tr>\n",
       "      <th>1</th>\n",
       "      <td>51630</td>\n",
       "      <td>1569</td>\n",
       "      <td>36.656709</td>\n",
       "      <td>-3.309214</td>\n",
       "      <td>0</td>\n",
       "      <td>2000s</td>\n",
       "      <td>Pangani</td>\n",
       "      <td>gravity</td>\n",
       "      <td>user-group</td>\n",
       "      <td>never pay</td>\n",
       "      <td>...</td>\n",
       "      <td>groundwater</td>\n",
       "      <td>soft</td>\n",
       "      <td>communal standpipe</td>\n",
       "      <td>Government Of Tanzania</td>\n",
       "      <td>DWE</td>\n",
       "      <td>other/unkown</td>\n",
       "      <td>other/unkown</td>\n",
       "      <td>other/unkown</td>\n",
       "      <td>other/unkown</td>\n",
       "      <td>other/unkown</td>\n",
       "    </tr>\n",
       "    <tr>\n",
       "      <th>2</th>\n",
       "      <td>17168</td>\n",
       "      <td>1567</td>\n",
       "      <td>34.767863</td>\n",
       "      <td>-5.004344</td>\n",
       "      <td>0</td>\n",
       "      <td>2010+</td>\n",
       "      <td>Internal</td>\n",
       "      <td>other</td>\n",
       "      <td>user-group</td>\n",
       "      <td>never pay</td>\n",
       "      <td>...</td>\n",
       "      <td>surface</td>\n",
       "      <td>soft</td>\n",
       "      <td>other</td>\n",
       "      <td>other/unkown</td>\n",
       "      <td>other/unkown</td>\n",
       "      <td>other/unkown</td>\n",
       "      <td>other/unkown</td>\n",
       "      <td>other/unkown</td>\n",
       "      <td>other/unkown</td>\n",
       "      <td>other/unkown</td>\n",
       "    </tr>\n",
       "    <tr>\n",
       "      <th>3</th>\n",
       "      <td>45559</td>\n",
       "      <td>267</td>\n",
       "      <td>38.058046</td>\n",
       "      <td>-9.418672</td>\n",
       "      <td>0</td>\n",
       "      <td>1980s</td>\n",
       "      <td>Ruvuma / Southern Coast</td>\n",
       "      <td>other</td>\n",
       "      <td>user-group</td>\n",
       "      <td>unknown</td>\n",
       "      <td>...</td>\n",
       "      <td>groundwater</td>\n",
       "      <td>soft</td>\n",
       "      <td>other</td>\n",
       "      <td>other/unkown</td>\n",
       "      <td>other/unkown</td>\n",
       "      <td>other/unkown</td>\n",
       "      <td>other/unkown</td>\n",
       "      <td>other/unkown</td>\n",
       "      <td>other/unkown</td>\n",
       "      <td>other/unkown</td>\n",
       "    </tr>\n",
       "    <tr>\n",
       "      <th>4</th>\n",
       "      <td>49871</td>\n",
       "      <td>1260</td>\n",
       "      <td>35.006123</td>\n",
       "      <td>-10.950412</td>\n",
       "      <td>1</td>\n",
       "      <td>2000s</td>\n",
       "      <td>Ruvuma / Southern Coast</td>\n",
       "      <td>gravity</td>\n",
       "      <td>user-group</td>\n",
       "      <td>monthly</td>\n",
       "      <td>...</td>\n",
       "      <td>groundwater</td>\n",
       "      <td>soft</td>\n",
       "      <td>communal standpipe</td>\n",
       "      <td>other/unkown</td>\n",
       "      <td>other/unkown</td>\n",
       "      <td>other/unkown</td>\n",
       "      <td>other/unkown</td>\n",
       "      <td>other/unkown</td>\n",
       "      <td>other/unkown</td>\n",
       "      <td>other/unkown</td>\n",
       "    </tr>\n",
       "    <tr>\n",
       "      <th>...</th>\n",
       "      <td>...</td>\n",
       "      <td>...</td>\n",
       "      <td>...</td>\n",
       "      <td>...</td>\n",
       "      <td>...</td>\n",
       "      <td>...</td>\n",
       "      <td>...</td>\n",
       "      <td>...</td>\n",
       "      <td>...</td>\n",
       "      <td>...</td>\n",
       "      <td>...</td>\n",
       "      <td>...</td>\n",
       "      <td>...</td>\n",
       "      <td>...</td>\n",
       "      <td>...</td>\n",
       "      <td>...</td>\n",
       "      <td>...</td>\n",
       "      <td>...</td>\n",
       "      <td>...</td>\n",
       "      <td>...</td>\n",
       "      <td>...</td>\n",
       "    </tr>\n",
       "    <tr>\n",
       "      <th>14388</th>\n",
       "      <td>39307</td>\n",
       "      <td>34</td>\n",
       "      <td>38.852669</td>\n",
       "      <td>-6.582841</td>\n",
       "      <td>0</td>\n",
       "      <td>1980s</td>\n",
       "      <td>Wami / Ruvu</td>\n",
       "      <td>motorpump</td>\n",
       "      <td>user-group</td>\n",
       "      <td>never pay</td>\n",
       "      <td>...</td>\n",
       "      <td>surface</td>\n",
       "      <td>soft</td>\n",
       "      <td>communal standpipe</td>\n",
       "      <td>Danida</td>\n",
       "      <td>other/unkown</td>\n",
       "      <td>other/unkown</td>\n",
       "      <td>other/unkown</td>\n",
       "      <td>other/unkown</td>\n",
       "      <td>other/unkown</td>\n",
       "      <td>other/unkown</td>\n",
       "    </tr>\n",
       "    <tr>\n",
       "      <th>14389</th>\n",
       "      <td>18990</td>\n",
       "      <td>0</td>\n",
       "      <td>37.451633</td>\n",
       "      <td>-5.350428</td>\n",
       "      <td>1</td>\n",
       "      <td>1990s</td>\n",
       "      <td>Pangani</td>\n",
       "      <td>handpump</td>\n",
       "      <td>user-group</td>\n",
       "      <td>annually</td>\n",
       "      <td>...</td>\n",
       "      <td>groundwater</td>\n",
       "      <td>salty</td>\n",
       "      <td>hand pump</td>\n",
       "      <td>other/unkown</td>\n",
       "      <td>other/unkown</td>\n",
       "      <td>other/unkown</td>\n",
       "      <td>other/unkown</td>\n",
       "      <td>other/unkown</td>\n",
       "      <td>other/unkown</td>\n",
       "      <td>other/unkown</td>\n",
       "    </tr>\n",
       "    <tr>\n",
       "      <th>14390</th>\n",
       "      <td>28749</td>\n",
       "      <td>1476</td>\n",
       "      <td>34.739804</td>\n",
       "      <td>-4.585587</td>\n",
       "      <td>0</td>\n",
       "      <td>2010+</td>\n",
       "      <td>Internal</td>\n",
       "      <td>gravity</td>\n",
       "      <td>user-group</td>\n",
       "      <td>never pay</td>\n",
       "      <td>...</td>\n",
       "      <td>surface</td>\n",
       "      <td>soft</td>\n",
       "      <td>communal standpipe</td>\n",
       "      <td>other/unkown</td>\n",
       "      <td>other/unkown</td>\n",
       "      <td>other/unkown</td>\n",
       "      <td>other/unkown</td>\n",
       "      <td>other/unkown</td>\n",
       "      <td>other/unkown</td>\n",
       "      <td>other/unkown</td>\n",
       "    </tr>\n",
       "    <tr>\n",
       "      <th>14391</th>\n",
       "      <td>33492</td>\n",
       "      <td>998</td>\n",
       "      <td>35.432732</td>\n",
       "      <td>-10.584159</td>\n",
       "      <td>0</td>\n",
       "      <td>2000s</td>\n",
       "      <td>Lake Nyasa</td>\n",
       "      <td>gravity</td>\n",
       "      <td>user-group</td>\n",
       "      <td>never pay</td>\n",
       "      <td>...</td>\n",
       "      <td>surface</td>\n",
       "      <td>soft</td>\n",
       "      <td>communal standpipe</td>\n",
       "      <td>other/unkown</td>\n",
       "      <td>DWE</td>\n",
       "      <td>other/unkown</td>\n",
       "      <td>other/unkown</td>\n",
       "      <td>other/unkown</td>\n",
       "      <td>other/unkown</td>\n",
       "      <td>other/unkown</td>\n",
       "    </tr>\n",
       "    <tr>\n",
       "      <th>14392</th>\n",
       "      <td>68707</td>\n",
       "      <td>481</td>\n",
       "      <td>34.765054</td>\n",
       "      <td>-11.226012</td>\n",
       "      <td>0</td>\n",
       "      <td>2000s</td>\n",
       "      <td>Lake Nyasa</td>\n",
       "      <td>gravity</td>\n",
       "      <td>user-group</td>\n",
       "      <td>never pay</td>\n",
       "      <td>...</td>\n",
       "      <td>groundwater</td>\n",
       "      <td>soft</td>\n",
       "      <td>communal standpipe</td>\n",
       "      <td>Government Of Tanzania</td>\n",
       "      <td>Government</td>\n",
       "      <td>other/unkown</td>\n",
       "      <td>other/unkown</td>\n",
       "      <td>other/unkown</td>\n",
       "      <td>other/unkown</td>\n",
       "      <td>DANIDA</td>\n",
       "    </tr>\n",
       "  </tbody>\n",
       "</table>\n",
       "<p>14393 rows × 22 columns</p>\n",
       "</div>"
      ],
      "text/plain": [
       "          id  gps_height  longitude   latitude  positive_head  \\\n",
       "0      50785        1996  35.290799  -4.059696              0   \n",
       "1      51630        1569  36.656709  -3.309214              0   \n",
       "2      17168        1567  34.767863  -5.004344              0   \n",
       "3      45559         267  38.058046  -9.418672              0   \n",
       "4      49871        1260  35.006123 -10.950412              1   \n",
       "...      ...         ...        ...        ...            ...   \n",
       "14388  39307          34  38.852669  -6.582841              0   \n",
       "14389  18990           0  37.451633  -5.350428              1   \n",
       "14390  28749        1476  34.739804  -4.585587              0   \n",
       "14391  33492         998  35.432732 -10.584159              0   \n",
       "14392  68707         481  34.765054 -11.226012              0   \n",
       "\n",
       "      construction_decade                    basin extraction_type_class  \\\n",
       "0                   2010+                 Internal                 other   \n",
       "1                   2000s                  Pangani               gravity   \n",
       "2                   2010+                 Internal                 other   \n",
       "3                   1980s  Ruvuma / Southern Coast                 other   \n",
       "4                   2000s  Ruvuma / Southern Coast               gravity   \n",
       "...                   ...                      ...                   ...   \n",
       "14388               1980s              Wami / Ruvu             motorpump   \n",
       "14389               1990s                  Pangani              handpump   \n",
       "14390               2010+                 Internal               gravity   \n",
       "14391               2000s               Lake Nyasa               gravity   \n",
       "14392               2000s               Lake Nyasa               gravity   \n",
       "\n",
       "      management_group payment_type  ... source_class water_quality  \\\n",
       "0           parastatal    never pay  ...      surface          soft   \n",
       "1           user-group    never pay  ...  groundwater          soft   \n",
       "2           user-group    never pay  ...      surface          soft   \n",
       "3           user-group      unknown  ...  groundwater          soft   \n",
       "4           user-group      monthly  ...  groundwater          soft   \n",
       "...                ...          ...  ...          ...           ...   \n",
       "14388       user-group    never pay  ...      surface          soft   \n",
       "14389       user-group     annually  ...  groundwater         salty   \n",
       "14390       user-group    never pay  ...      surface          soft   \n",
       "14391       user-group    never pay  ...      surface          soft   \n",
       "14392       user-group    never pay  ...  groundwater          soft   \n",
       "\n",
       "      waterpoint_type_group             top_funders top_installers  \\\n",
       "0                     other            other/unkown   other/unkown   \n",
       "1        communal standpipe  Government Of Tanzania            DWE   \n",
       "2                     other            other/unkown   other/unkown   \n",
       "3                     other            other/unkown   other/unkown   \n",
       "4        communal standpipe            other/unkown   other/unkown   \n",
       "...                     ...                     ...            ...   \n",
       "14388    communal standpipe                  Danida   other/unkown   \n",
       "14389             hand pump            other/unkown   other/unkown   \n",
       "14390    communal standpipe            other/unkown   other/unkown   \n",
       "14391    communal standpipe            other/unkown            DWE   \n",
       "14392    communal standpipe  Government Of Tanzania     Government   \n",
       "\n",
       "      top_wpt_names top_subvillage       top_lga      top_ward top_scheme_name  \n",
       "0      other/unkown   other/unkown  other/unkown  other/unkown    other/unkown  \n",
       "1      other/unkown   other/unkown  other/unkown  other/unkown    other/unkown  \n",
       "2      other/unkown   other/unkown  other/unkown  other/unkown    other/unkown  \n",
       "3      other/unkown   other/unkown  other/unkown  other/unkown    other/unkown  \n",
       "4      other/unkown   other/unkown  other/unkown  other/unkown    other/unkown  \n",
       "...             ...            ...           ...           ...             ...  \n",
       "14388  other/unkown   other/unkown  other/unkown  other/unkown    other/unkown  \n",
       "14389  other/unkown   other/unkown  other/unkown  other/unkown    other/unkown  \n",
       "14390  other/unkown   other/unkown  other/unkown  other/unkown    other/unkown  \n",
       "14391  other/unkown   other/unkown  other/unkown  other/unkown    other/unkown  \n",
       "14392  other/unkown   other/unkown  other/unkown  other/unkown          DANIDA  \n",
       "\n",
       "[14393 rows x 22 columns]"
      ]
     },
     "execution_count": 57,
     "metadata": {},
     "output_type": "execute_result"
    }
   ],
   "source": [
    "final_df.reset_index()"
   ]
  },
  {
   "cell_type": "code",
   "execution_count": 55,
   "metadata": {
    "ExecuteTime": {
     "end_time": "2020-07-09T05:01:01.749830Z",
     "start_time": "2020-07-09T05:01:01.645807Z"
    }
   },
   "outputs": [],
   "source": [
    "pd.DataFrame.to_csv(final_df,path_or_buf='cleaned_test_data.csv',index=True)"
   ]
  },
  {
   "cell_type": "code",
   "execution_count": 56,
   "metadata": {
    "ExecuteTime": {
     "end_time": "2020-07-09T05:01:01.762834Z",
     "start_time": "2020-07-09T05:01:01.750831Z"
    }
   },
   "outputs": [
    {
     "ename": "SyntaxError",
     "evalue": "'break' outside loop (<ipython-input-56-6aaf1f276005>, line 4)",
     "output_type": "error",
     "traceback": [
      "\u001b[1;36m  File \u001b[1;32m\"<ipython-input-56-6aaf1f276005>\"\u001b[1;36m, line \u001b[1;32m4\u001b[0m\n\u001b[1;31mSyntaxError\u001b[0m\u001b[1;31m:\u001b[0m 'break' outside loop\n"
     ]
    }
   ],
   "source": [
    "break"
   ]
  },
  {
   "cell_type": "markdown",
   "metadata": {
    "ExecuteTime": {
     "end_time": "2020-07-08T13:50:49.086630Z",
     "start_time": "2020-07-08T13:50:49.082503Z"
    },
    "heading_collapsed": true
   },
   "source": [
    "# Visualization of Data"
   ]
  },
  {
   "cell_type": "code",
   "execution_count": null,
   "metadata": {
    "ExecuteTime": {
     "end_time": "2020-07-09T05:01:01.763834Z",
     "start_time": "2020-07-09T05:00:59.408Z"
    },
    "hidden": true
   },
   "outputs": [],
   "source": [
    "import plotly.express as px\n",
    "default_public_token = 'pk.eyJ1IjoiYnNhbWFoYSIsImEiOiJja2M5OHZrYmIwMXZhMnNtdXB3Ynl1bW45In0.T9VEPlgv1PVatWdX_R27dQ'\n",
    "px.set_mapbox_access_token(default_public_token)\n",
    "fig = px.scatter_mapbox(numerical_df,\n",
    "                        lat=\"latitude\",\n",
    "                        lon=\"longitude\",\n",
    "                        color=\"status_group\",\n",
    "                        color_continuous_scale=px.colors.cyclical.IceFire)\n",
    "fig.show()\n",
    "fig.write_html(\"./Data/Well_Status_Map.html\")"
   ]
  },
  {
   "cell_type": "code",
   "execution_count": null,
   "metadata": {
    "hidden": true
   },
   "outputs": [],
   "source": []
  },
  {
   "cell_type": "code",
   "execution_count": null,
   "metadata": {
    "hidden": true
   },
   "outputs": [],
   "source": []
  },
  {
   "cell_type": "markdown",
   "metadata": {},
   "source": [
    "# Iteration 1 Data Analysis\n",
    "Here we will look at the results of iteration 1 to see what we can extract."
   ]
  },
  {
   "cell_type": "code",
   "execution_count": null,
   "metadata": {
    "ExecuteTime": {
     "end_time": "2020-07-09T05:01:01.763834Z",
     "start_time": "2020-07-09T05:00:59.412Z"
    }
   },
   "outputs": [],
   "source": [
    "iter_1_false_postives_df = pd.read_csv('./Data./CSV/false_positives_iteration_1')\n",
    "iter_1_false_negatives_df = pd.read_csv('./Data./CSV/false_negatives_iteration_1')"
   ]
  },
  {
   "cell_type": "code",
   "execution_count": null,
   "metadata": {
    "ExecuteTime": {
     "end_time": "2020-07-09T05:01:01.764834Z",
     "start_time": "2020-07-09T05:00:59.413Z"
    }
   },
   "outputs": [],
   "source": [
    "iter_1_false_postives_df"
   ]
  },
  {
   "cell_type": "code",
   "execution_count": null,
   "metadata": {
    "ExecuteTime": {
     "end_time": "2020-07-09T05:01:01.765834Z",
     "start_time": "2020-07-09T05:00:59.414Z"
    }
   },
   "outputs": [],
   "source": [
    "default_public_token = 'pk.eyJ1IjoiYnNhbWFoYSIsImEiOiJja2M5OHZrYmIwMXZhMnNtdXB3Ynl1bW45In0.T9VEPlgv1PVatWdX_R27dQ'\n",
    "px.set_mapbox_access_token(default_public_token)\n",
    "fig = px.scatter_mapbox(iter_1_false_postives_df,\n",
    "                        lat=\"latitude\",\n",
    "                        lon=\"longitude\",\n",
    "                        #color=\"gps_height\",\n",
    "                        color_continuous_scale=px.colors.cyclical.IceFire)\n",
    "fig.show()\n",
    "#fig.write_html(\"./Data/Iter_1/False_Positive.html\")"
   ]
  },
  {
   "cell_type": "code",
   "execution_count": null,
   "metadata": {
    "ExecuteTime": {
     "end_time": "2020-07-09T05:01:01.765834Z",
     "start_time": "2020-07-09T05:00:59.415Z"
    }
   },
   "outputs": [],
   "source": [
    "iter_1_false_negatives_df"
   ]
  },
  {
   "cell_type": "code",
   "execution_count": null,
   "metadata": {
    "ExecuteTime": {
     "end_time": "2020-07-09T05:01:01.766834Z",
     "start_time": "2020-07-09T05:00:59.416Z"
    }
   },
   "outputs": [],
   "source": [
    "default_public_token = 'pk.eyJ1IjoiYnNhbWFoYSIsImEiOiJja2M5OHZrYmIwMXZhMnNtdXB3Ynl1bW45In0.T9VEPlgv1PVatWdX_R27dQ'\n",
    "px.set_mapbox_access_token(default_public_token)\n",
    "fig = px.scatter_mapbox(iter_1_false_negatives_df,\n",
    "                        lat=\"latitude\",\n",
    "                        lon=\"longitude\",\n",
    "                        #color=\"gps_height\",\n",
    "                        color_continuous_scale=px.colors.cyclical.IceFire)\n",
    "fig.show()\n",
    "#fig.write_html(\"./Data/Iter_1/iter_1_false_negatives_df.html\")"
   ]
  },
  {
   "cell_type": "code",
   "execution_count": null,
   "metadata": {
    "ExecuteTime": {
     "end_time": "2020-07-08T22:22:31.884641Z",
     "start_time": "2020-07-08T22:22:31.802632Z"
    }
   },
   "outputs": [],
   "source": []
  },
  {
   "cell_type": "code",
   "execution_count": null,
   "metadata": {},
   "outputs": [],
   "source": []
  }
 ],
 "metadata": {
  "kernelspec": {
   "display_name": "Python 3",
   "language": "python",
   "name": "python3"
  },
  "language_info": {
   "codemirror_mode": {
    "name": "ipython",
    "version": 3
   },
   "file_extension": ".py",
   "mimetype": "text/x-python",
   "name": "python",
   "nbconvert_exporter": "python",
   "pygments_lexer": "ipython3",
   "version": "3.7.6"
  },
  "varInspector": {
   "cols": {
    "lenName": 16,
    "lenType": 16,
    "lenVar": 40
   },
   "kernels_config": {
    "python": {
     "delete_cmd_postfix": "",
     "delete_cmd_prefix": "del ",
     "library": "var_list.py",
     "varRefreshCmd": "print(var_dic_list())"
    },
    "r": {
     "delete_cmd_postfix": ") ",
     "delete_cmd_prefix": "rm(",
     "library": "var_list.r",
     "varRefreshCmd": "cat(var_dic_list()) "
    }
   },
   "position": {
    "height": "853.396px",
    "left": "1621.31px",
    "right": "20px",
    "top": "145px",
    "width": "594.313px"
   },
   "types_to_exclude": [
    "module",
    "function",
    "builtin_function_or_method",
    "instance",
    "_Feature"
   ],
   "window_display": false
  }
 },
 "nbformat": 4,
 "nbformat_minor": 4
}
