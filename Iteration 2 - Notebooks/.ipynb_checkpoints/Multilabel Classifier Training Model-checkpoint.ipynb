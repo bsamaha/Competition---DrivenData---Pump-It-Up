{
 "cells": [
  {
   "cell_type": "code",
   "execution_count": 42,
   "metadata": {
    "ExecuteTime": {
     "end_time": "2020-07-10T11:48:04.343932Z",
     "start_time": "2020-07-10T11:48:04.340933Z"
    }
   },
   "outputs": [],
   "source": [
    "import pandas as pd\n",
    "import matplotlib.pyplot as plt\n",
    "import numpy as np\n",
    "import xgboost"
   ]
  },
  {
   "cell_type": "code",
   "execution_count": 43,
   "metadata": {
    "ExecuteTime": {
     "end_time": "2020-07-10T11:48:05.177120Z",
     "start_time": "2020-07-10T11:48:05.036088Z"
    }
   },
   "outputs": [],
   "source": [
    "df = pd.read_csv('./training_model_ready.csv',index_col='id')\n",
    "\n",
    "test_df = pd.read_csv('./test_model_ready.csv',index_col='id')\n"
   ]
  },
  {
   "cell_type": "code",
   "execution_count": null,
   "metadata": {},
   "outputs": [],
   "source": []
  },
  {
   "cell_type": "code",
   "execution_count": null,
   "metadata": {},
   "outputs": [],
   "source": []
  },
  {
   "cell_type": "code",
   "execution_count": 44,
   "metadata": {
    "ExecuteTime": {
     "end_time": "2020-07-10T11:48:05.707240Z",
     "start_time": "2020-07-10T11:48:05.702238Z"
    }
   },
   "outputs": [],
   "source": [
    "from sklearn.preprocessing import OneHotEncoder, StandardScaler, LabelEncoder\n",
    "from sklearn.compose import make_column_transformer\n",
    "from sklearn.pipeline import Pipeline, make_pipeline\n",
    "from xgboost import XGBClassifier, plot_importance, plot_tree\n",
    "\n",
    "from sklearn.model_selection import train_test_split, StratifiedKFold, cross_val_score, GridSearchCV, cross_val_predict\n",
    "from sklearn.metrics import accuracy_score,f1_score,cohen_kappa_score,plot_confusion_matrix\n",
    "from sklearn.feature_selection import SelectFromModel\n",
    "from sklearn.tree import DecisionTreeClassifier\n",
    "\n",
    "from sklearn.feature_selection import RFECV"
   ]
  },
  {
   "cell_type": "code",
   "execution_count": 45,
   "metadata": {
    "ExecuteTime": {
     "end_time": "2020-07-10T11:48:06.240359Z",
     "start_time": "2020-07-10T11:48:06.237359Z"
    }
   },
   "outputs": [
    {
     "name": "stdout",
     "output_type": "stream",
     "text": [
      "(59400, 19)\n",
      "(14850, 19)\n"
     ]
    }
   ],
   "source": [
    "print(df.shape)\n",
    "print(test_df.shape)"
   ]
  },
  {
   "cell_type": "code",
   "execution_count": 20,
   "metadata": {
    "ExecuteTime": {
     "end_time": "2020-07-10T06:00:21.679850Z",
     "start_time": "2020-07-10T06:00:21.661845Z"
    }
   },
   "outputs": [],
   "source": [
    "# Drop NA\n",
    "\n",
    "# set X and y variables\n",
    "X = df.drop(columns='status_group')\n",
    "y = df.status_group\n",
    "\n",
    "test_x = test_df \n",
    "\n",
    "# get list of predictors to OHE\n",
    "object_predictors = list(X.select_dtypes(include=['object']).columns)\n",
    "test_object_predictors = list(test_x.select_dtypes(include=['object']).columns)"
   ]
  },
  {
   "cell_type": "code",
   "execution_count": 21,
   "metadata": {
    "ExecuteTime": {
     "end_time": "2020-07-10T06:00:22.190965Z",
     "start_time": "2020-07-10T06:00:22.028930Z"
    },
    "scrolled": true
   },
   "outputs": [],
   "source": [
    "column_trans = make_column_transformer(\n",
    "    (OneHotEncoder(handle_unknown='ignore',sparse=True), object_predictors), remainder='passthrough')\n",
    "\n",
    "X = column_trans.fit_transform(X)"
   ]
  },
  {
   "cell_type": "code",
   "execution_count": 22,
   "metadata": {
    "ExecuteTime": {
     "end_time": "2020-07-10T06:00:22.605058Z",
     "start_time": "2020-07-10T06:00:22.563049Z"
    }
   },
   "outputs": [],
   "source": [
    "test_column_trans = make_column_transformer(\n",
    "    (OneHotEncoder(handle_unknown='ignore',sparse=True), test_object_predictors), remainder='passthrough')\n",
    "\n",
    "test_data = test_column_trans.fit_transform(test_df)"
   ]
  },
  {
   "cell_type": "markdown",
   "metadata": {},
   "source": [
    "### Train Test Split"
   ]
  },
  {
   "cell_type": "code",
   "execution_count": 23,
   "metadata": {
    "ExecuteTime": {
     "end_time": "2020-07-10T06:00:22.992145Z",
     "start_time": "2020-07-10T06:00:22.976142Z"
    }
   },
   "outputs": [],
   "source": [
    "X_train, X_test, y_train, y_test = train_test_split(\n",
    "    X,\n",
    "    y,\n",
    "    random_state=0)"
   ]
  },
  {
   "cell_type": "code",
   "execution_count": 24,
   "metadata": {
    "ExecuteTime": {
     "end_time": "2020-07-10T06:00:23.365229Z",
     "start_time": "2020-07-10T06:00:23.362228Z"
    }
   },
   "outputs": [],
   "source": [
    "# # fit model\n",
    "# clf = XGBClassifier(objective='multi:softmax')\n",
    "# clf.fit(X_train,y_train)\n",
    "\n",
    "# # make predictions for test data and evaluate \n",
    "# predictions = clf.predict(X_test) \n",
    "# accuracy = accuracy_score(y_test, predictions)\n",
    "# print(\"Accuracy: %.2f%%\" % (accuracy * 100.0))"
   ]
  },
  {
   "cell_type": "code",
   "execution_count": 56,
   "metadata": {
    "ExecuteTime": {
     "end_time": "2020-07-10T12:12:29.108779Z",
     "start_time": "2020-07-10T12:12:29.104778Z"
    }
   },
   "outputs": [],
   "source": [
    "# tune the model\n",
    "n_estimators_1 = [100,200,300]\n",
    "max_depth_1 = [8,10,12]\n",
    "learning_rate_1 = [.1]\n",
    "min_child_weight_1 = [.5,.75,.9]\n",
    "reg_lamba_1 = [1,3,5]\n",
    "reg_alpha_1 = [0]\n",
    "subsample_1 = [0.6,0.8,1]\n",
    "\n",
    "\n",
    "param_grid = dict(max_depth=max_depth_1,\n",
    "                  n_estimators=n_estimators_1,\n",
    "                  learning_rate=learning_rate_1,\n",
    "                  min_child_weight=min_child_weight_1,\n",
    "                  reg_lambda=reg_lamba_1,\n",
    "                  reg_alpha=reg_alpha_1,\n",
    "                  subsample=subsample_1)"
   ]
  },
  {
   "cell_type": "code",
   "execution_count": 57,
   "metadata": {
    "ExecuteTime": {
     "end_time": "2020-07-10T12:19:03.222399Z",
     "start_time": "2020-07-10T12:12:30.976167Z"
    },
    "scrolled": false
   },
   "outputs": [
    {
     "name": "stdout",
     "output_type": "stream",
     "text": [
      "Fitting 3 folds for each of 81 candidates, totalling 243 fits\n"
     ]
    },
    {
     "name": "stderr",
     "output_type": "stream",
     "text": [
      "[Parallel(n_jobs=-1)]: Using backend LokyBackend with 24 concurrent workers.\n",
      "[Parallel(n_jobs=-1)]: Done   2 tasks      | elapsed:   13.5s\n",
      "[Parallel(n_jobs=-1)]: Done 152 tasks      | elapsed:  3.2min\n",
      "[Parallel(n_jobs=-1)]: Done 243 out of 243 | elapsed:  5.9min finished\n"
     ]
    }
   ],
   "source": [
    "# Cross Validate and gridsearch\n",
    "clf = XGBClassifier(objective='multi:softmax')\n",
    "kfold = StratifiedKFold(n_splits=3,shuffle=True,random_state=1)\n",
    "grid_search = GridSearchCV(clf,param_grid,scoring='accuracy',n_jobs=-1,cv=kfold,verbose=1)\n",
    "grid_result = grid_search.fit(X_train, y_train)"
   ]
  },
  {
   "cell_type": "code",
   "execution_count": 58,
   "metadata": {
    "ExecuteTime": {
     "end_time": "2020-07-10T12:19:09.021515Z",
     "start_time": "2020-07-10T12:19:09.016514Z"
    }
   },
   "outputs": [
    {
     "name": "stdout",
     "output_type": "stream",
     "text": [
      "Best: 0.802065 using {'learning_rate': 0.1, 'max_depth': 10, 'min_child_weight': 0.9, 'n_estimators': 200, 'reg_alpha': 0, 'reg_lambda': 1, 'subsample': 0.8}\n",
      "0.781279 (0.001030) with: {'learning_rate': 0.1, 'max_depth': 6, 'min_child_weight': 0.3, 'n_estimators': 100, 'reg_alpha': 0, 'reg_lambda': 1, 'subsample': 0.4}\n",
      "0.779147 (0.001032) with: {'learning_rate': 0.1, 'max_depth': 6, 'min_child_weight': 0.3, 'n_estimators': 100, 'reg_alpha': 0, 'reg_lambda': 1, 'subsample': 0.6}\n",
      "0.780224 (0.000127) with: {'learning_rate': 0.1, 'max_depth': 6, 'min_child_weight': 0.3, 'n_estimators': 100, 'reg_alpha': 0, 'reg_lambda': 1, 'subsample': 0.8}\n",
      "0.791448 (0.001152) with: {'learning_rate': 0.1, 'max_depth': 6, 'min_child_weight': 0.3, 'n_estimators': 200, 'reg_alpha': 0, 'reg_lambda': 1, 'subsample': 0.4}\n",
      "0.791919 (0.001818) with: {'learning_rate': 0.1, 'max_depth': 6, 'min_child_weight': 0.3, 'n_estimators': 200, 'reg_alpha': 0, 'reg_lambda': 1, 'subsample': 0.6}\n",
      "0.791156 (0.001278) with: {'learning_rate': 0.1, 'max_depth': 6, 'min_child_weight': 0.3, 'n_estimators': 200, 'reg_alpha': 0, 'reg_lambda': 1, 'subsample': 0.8}\n",
      "0.795196 (0.001861) with: {'learning_rate': 0.1, 'max_depth': 6, 'min_child_weight': 0.3, 'n_estimators': 300, 'reg_alpha': 0, 'reg_lambda': 1, 'subsample': 0.4}\n",
      "0.795623 (0.001952) with: {'learning_rate': 0.1, 'max_depth': 6, 'min_child_weight': 0.3, 'n_estimators': 300, 'reg_alpha': 0, 'reg_lambda': 1, 'subsample': 0.6}\n",
      "0.796745 (0.001284) with: {'learning_rate': 0.1, 'max_depth': 6, 'min_child_weight': 0.3, 'n_estimators': 300, 'reg_alpha': 0, 'reg_lambda': 1, 'subsample': 0.8}\n",
      "0.781616 (0.001116) with: {'learning_rate': 0.1, 'max_depth': 6, 'min_child_weight': 0.6, 'n_estimators': 100, 'reg_alpha': 0, 'reg_lambda': 1, 'subsample': 0.4}\n",
      "0.779820 (0.001052) with: {'learning_rate': 0.1, 'max_depth': 6, 'min_child_weight': 0.6, 'n_estimators': 100, 'reg_alpha': 0, 'reg_lambda': 1, 'subsample': 0.6}\n",
      "0.777419 (0.000277) with: {'learning_rate': 0.1, 'max_depth': 6, 'min_child_weight': 0.6, 'n_estimators': 100, 'reg_alpha': 0, 'reg_lambda': 1, 'subsample': 0.8}\n",
      "0.792121 (0.001018) with: {'learning_rate': 0.1, 'max_depth': 6, 'min_child_weight': 0.6, 'n_estimators': 200, 'reg_alpha': 0, 'reg_lambda': 1, 'subsample': 0.4}\n",
      "0.791425 (0.001506) with: {'learning_rate': 0.1, 'max_depth': 6, 'min_child_weight': 0.6, 'n_estimators': 200, 'reg_alpha': 0, 'reg_lambda': 1, 'subsample': 0.6}\n",
      "0.790976 (0.002096) with: {'learning_rate': 0.1, 'max_depth': 6, 'min_child_weight': 0.6, 'n_estimators': 200, 'reg_alpha': 0, 'reg_lambda': 1, 'subsample': 0.8}\n",
      "0.795533 (0.003565) with: {'learning_rate': 0.1, 'max_depth': 6, 'min_child_weight': 0.6, 'n_estimators': 300, 'reg_alpha': 0, 'reg_lambda': 1, 'subsample': 0.4}\n",
      "0.795354 (0.001715) with: {'learning_rate': 0.1, 'max_depth': 6, 'min_child_weight': 0.6, 'n_estimators': 300, 'reg_alpha': 0, 'reg_lambda': 1, 'subsample': 0.6}\n",
      "0.795174 (0.001881) with: {'learning_rate': 0.1, 'max_depth': 6, 'min_child_weight': 0.6, 'n_estimators': 300, 'reg_alpha': 0, 'reg_lambda': 1, 'subsample': 0.8}\n",
      "0.780763 (0.000873) with: {'learning_rate': 0.1, 'max_depth': 6, 'min_child_weight': 0.9, 'n_estimators': 100, 'reg_alpha': 0, 'reg_lambda': 1, 'subsample': 0.4}\n",
      "0.779686 (0.000303) with: {'learning_rate': 0.1, 'max_depth': 6, 'min_child_weight': 0.9, 'n_estimators': 100, 'reg_alpha': 0, 'reg_lambda': 1, 'subsample': 0.6}\n",
      "0.779506 (0.000698) with: {'learning_rate': 0.1, 'max_depth': 6, 'min_child_weight': 0.9, 'n_estimators': 100, 'reg_alpha': 0, 'reg_lambda': 1, 'subsample': 0.8}\n",
      "0.790617 (0.001746) with: {'learning_rate': 0.1, 'max_depth': 6, 'min_child_weight': 0.9, 'n_estimators': 200, 'reg_alpha': 0, 'reg_lambda': 1, 'subsample': 0.4}\n",
      "0.790370 (0.001144) with: {'learning_rate': 0.1, 'max_depth': 6, 'min_child_weight': 0.9, 'n_estimators': 200, 'reg_alpha': 0, 'reg_lambda': 1, 'subsample': 0.6}\n",
      "0.791829 (0.000965) with: {'learning_rate': 0.1, 'max_depth': 6, 'min_child_weight': 0.9, 'n_estimators': 200, 'reg_alpha': 0, 'reg_lambda': 1, 'subsample': 0.8}\n",
      "0.795309 (0.001933) with: {'learning_rate': 0.1, 'max_depth': 6, 'min_child_weight': 0.9, 'n_estimators': 300, 'reg_alpha': 0, 'reg_lambda': 1, 'subsample': 0.4}\n",
      "0.795398 (0.002382) with: {'learning_rate': 0.1, 'max_depth': 6, 'min_child_weight': 0.9, 'n_estimators': 300, 'reg_alpha': 0, 'reg_lambda': 1, 'subsample': 0.6}\n",
      "0.795847 (0.001230) with: {'learning_rate': 0.1, 'max_depth': 6, 'min_child_weight': 0.9, 'n_estimators': 300, 'reg_alpha': 0, 'reg_lambda': 1, 'subsample': 0.8}\n",
      "0.792862 (0.001905) with: {'learning_rate': 0.1, 'max_depth': 8, 'min_child_weight': 0.3, 'n_estimators': 100, 'reg_alpha': 0, 'reg_lambda': 1, 'subsample': 0.4}\n",
      "0.793199 (0.001809) with: {'learning_rate': 0.1, 'max_depth': 8, 'min_child_weight': 0.3, 'n_estimators': 100, 'reg_alpha': 0, 'reg_lambda': 1, 'subsample': 0.6}\n",
      "0.793872 (0.002391) with: {'learning_rate': 0.1, 'max_depth': 8, 'min_child_weight': 0.3, 'n_estimators': 100, 'reg_alpha': 0, 'reg_lambda': 1, 'subsample': 0.8}\n",
      "0.798137 (0.001686) with: {'learning_rate': 0.1, 'max_depth': 8, 'min_child_weight': 0.3, 'n_estimators': 200, 'reg_alpha': 0, 'reg_lambda': 1, 'subsample': 0.4}\n",
      "0.798361 (0.001100) with: {'learning_rate': 0.1, 'max_depth': 8, 'min_child_weight': 0.3, 'n_estimators': 200, 'reg_alpha': 0, 'reg_lambda': 1, 'subsample': 0.6}\n",
      "0.798855 (0.001803) with: {'learning_rate': 0.1, 'max_depth': 8, 'min_child_weight': 0.3, 'n_estimators': 200, 'reg_alpha': 0, 'reg_lambda': 1, 'subsample': 0.8}\n",
      "0.799529 (0.001568) with: {'learning_rate': 0.1, 'max_depth': 8, 'min_child_weight': 0.3, 'n_estimators': 300, 'reg_alpha': 0, 'reg_lambda': 1, 'subsample': 0.4}\n",
      "0.801100 (0.001767) with: {'learning_rate': 0.1, 'max_depth': 8, 'min_child_weight': 0.3, 'n_estimators': 300, 'reg_alpha': 0, 'reg_lambda': 1, 'subsample': 0.6}\n",
      "0.801504 (0.001932) with: {'learning_rate': 0.1, 'max_depth': 8, 'min_child_weight': 0.3, 'n_estimators': 300, 'reg_alpha': 0, 'reg_lambda': 1, 'subsample': 0.8}\n",
      "0.792817 (0.000499) with: {'learning_rate': 0.1, 'max_depth': 8, 'min_child_weight': 0.6, 'n_estimators': 100, 'reg_alpha': 0, 'reg_lambda': 1, 'subsample': 0.4}\n",
      "0.793244 (0.000759) with: {'learning_rate': 0.1, 'max_depth': 8, 'min_child_weight': 0.6, 'n_estimators': 100, 'reg_alpha': 0, 'reg_lambda': 1, 'subsample': 0.6}\n",
      "0.793850 (0.000986) with: {'learning_rate': 0.1, 'max_depth': 8, 'min_child_weight': 0.6, 'n_estimators': 100, 'reg_alpha': 0, 'reg_lambda': 1, 'subsample': 0.8}\n",
      "0.799506 (0.003121) with: {'learning_rate': 0.1, 'max_depth': 8, 'min_child_weight': 0.6, 'n_estimators': 200, 'reg_alpha': 0, 'reg_lambda': 1, 'subsample': 0.4}\n",
      "0.799327 (0.000873) with: {'learning_rate': 0.1, 'max_depth': 8, 'min_child_weight': 0.6, 'n_estimators': 200, 'reg_alpha': 0, 'reg_lambda': 1, 'subsample': 0.6}\n",
      "0.798249 (0.002539) with: {'learning_rate': 0.1, 'max_depth': 8, 'min_child_weight': 0.6, 'n_estimators': 200, 'reg_alpha': 0, 'reg_lambda': 1, 'subsample': 0.8}\n",
      "0.801235 (0.002175) with: {'learning_rate': 0.1, 'max_depth': 8, 'min_child_weight': 0.6, 'n_estimators': 300, 'reg_alpha': 0, 'reg_lambda': 1, 'subsample': 0.4}\n",
      "0.800763 (0.001266) with: {'learning_rate': 0.1, 'max_depth': 8, 'min_child_weight': 0.6, 'n_estimators': 300, 'reg_alpha': 0, 'reg_lambda': 1, 'subsample': 0.6}\n",
      "0.800449 (0.001686) with: {'learning_rate': 0.1, 'max_depth': 8, 'min_child_weight': 0.6, 'n_estimators': 300, 'reg_alpha': 0, 'reg_lambda': 1, 'subsample': 0.8}\n",
      "0.792772 (0.001404) with: {'learning_rate': 0.1, 'max_depth': 8, 'min_child_weight': 0.9, 'n_estimators': 100, 'reg_alpha': 0, 'reg_lambda': 1, 'subsample': 0.4}\n",
      "0.793984 (0.000801) with: {'learning_rate': 0.1, 'max_depth': 8, 'min_child_weight': 0.9, 'n_estimators': 100, 'reg_alpha': 0, 'reg_lambda': 1, 'subsample': 0.6}\n",
      "0.793446 (0.001669) with: {'learning_rate': 0.1, 'max_depth': 8, 'min_child_weight': 0.9, 'n_estimators': 100, 'reg_alpha': 0, 'reg_lambda': 1, 'subsample': 0.8}\n",
      "0.798541 (0.002875) with: {'learning_rate': 0.1, 'max_depth': 8, 'min_child_weight': 0.9, 'n_estimators': 200, 'reg_alpha': 0, 'reg_lambda': 1, 'subsample': 0.4}\n",
      "0.799147 (0.002334) with: {'learning_rate': 0.1, 'max_depth': 8, 'min_child_weight': 0.9, 'n_estimators': 200, 'reg_alpha': 0, 'reg_lambda': 1, 'subsample': 0.6}\n",
      "0.799394 (0.002141) with: {'learning_rate': 0.1, 'max_depth': 8, 'min_child_weight': 0.9, 'n_estimators': 200, 'reg_alpha': 0, 'reg_lambda': 1, 'subsample': 0.8}\n",
      "0.799035 (0.001937) with: {'learning_rate': 0.1, 'max_depth': 8, 'min_child_weight': 0.9, 'n_estimators': 300, 'reg_alpha': 0, 'reg_lambda': 1, 'subsample': 0.4}\n",
      "0.799933 (0.001191) with: {'learning_rate': 0.1, 'max_depth': 8, 'min_child_weight': 0.9, 'n_estimators': 300, 'reg_alpha': 0, 'reg_lambda': 1, 'subsample': 0.6}\n",
      "0.800875 (0.002102) with: {'learning_rate': 0.1, 'max_depth': 8, 'min_child_weight': 0.9, 'n_estimators': 300, 'reg_alpha': 0, 'reg_lambda': 1, 'subsample': 0.8}\n",
      "0.799214 (0.002284) with: {'learning_rate': 0.1, 'max_depth': 10, 'min_child_weight': 0.3, 'n_estimators': 100, 'reg_alpha': 0, 'reg_lambda': 1, 'subsample': 0.4}\n",
      "0.800135 (0.001625) with: {'learning_rate': 0.1, 'max_depth': 10, 'min_child_weight': 0.3, 'n_estimators': 100, 'reg_alpha': 0, 'reg_lambda': 1, 'subsample': 0.6}\n",
      "0.799776 (0.002608) with: {'learning_rate': 0.1, 'max_depth': 10, 'min_child_weight': 0.3, 'n_estimators': 100, 'reg_alpha': 0, 'reg_lambda': 1, 'subsample': 0.8}\n",
      "0.799798 (0.001813) with: {'learning_rate': 0.1, 'max_depth': 10, 'min_child_weight': 0.3, 'n_estimators': 200, 'reg_alpha': 0, 'reg_lambda': 1, 'subsample': 0.4}\n",
      "0.800247 (0.002265) with: {'learning_rate': 0.1, 'max_depth': 10, 'min_child_weight': 0.3, 'n_estimators': 200, 'reg_alpha': 0, 'reg_lambda': 1, 'subsample': 0.6}\n",
      "0.801751 (0.001136) with: {'learning_rate': 0.1, 'max_depth': 10, 'min_child_weight': 0.3, 'n_estimators': 200, 'reg_alpha': 0, 'reg_lambda': 1, 'subsample': 0.8}\n",
      "0.799686 (0.002540) with: {'learning_rate': 0.1, 'max_depth': 10, 'min_child_weight': 0.3, 'n_estimators': 300, 'reg_alpha': 0, 'reg_lambda': 1, 'subsample': 0.4}\n",
      "0.798182 (0.000721) with: {'learning_rate': 0.1, 'max_depth': 10, 'min_child_weight': 0.3, 'n_estimators': 300, 'reg_alpha': 0, 'reg_lambda': 1, 'subsample': 0.6}\n",
      "0.799843 (0.001541) with: {'learning_rate': 0.1, 'max_depth': 10, 'min_child_weight': 0.3, 'n_estimators': 300, 'reg_alpha': 0, 'reg_lambda': 1, 'subsample': 0.8}\n",
      "0.797755 (0.001208) with: {'learning_rate': 0.1, 'max_depth': 10, 'min_child_weight': 0.6, 'n_estimators': 100, 'reg_alpha': 0, 'reg_lambda': 1, 'subsample': 0.4}\n",
      "0.799282 (0.001673) with: {'learning_rate': 0.1, 'max_depth': 10, 'min_child_weight': 0.6, 'n_estimators': 100, 'reg_alpha': 0, 'reg_lambda': 1, 'subsample': 0.6}\n",
      "0.798810 (0.002262) with: {'learning_rate': 0.1, 'max_depth': 10, 'min_child_weight': 0.6, 'n_estimators': 100, 'reg_alpha': 0, 'reg_lambda': 1, 'subsample': 0.8}\n",
      "0.799147 (0.000969) with: {'learning_rate': 0.1, 'max_depth': 10, 'min_child_weight': 0.6, 'n_estimators': 200, 'reg_alpha': 0, 'reg_lambda': 1, 'subsample': 0.4}\n",
      "0.800943 (0.001524) with: {'learning_rate': 0.1, 'max_depth': 10, 'min_child_weight': 0.6, 'n_estimators': 200, 'reg_alpha': 0, 'reg_lambda': 1, 'subsample': 0.6}\n",
      "0.801100 (0.001569) with: {'learning_rate': 0.1, 'max_depth': 10, 'min_child_weight': 0.6, 'n_estimators': 200, 'reg_alpha': 0, 'reg_lambda': 1, 'subsample': 0.8}\n",
      "0.798586 (0.000830) with: {'learning_rate': 0.1, 'max_depth': 10, 'min_child_weight': 0.6, 'n_estimators': 300, 'reg_alpha': 0, 'reg_lambda': 1, 'subsample': 0.4}\n",
      "0.799596 (0.000873) with: {'learning_rate': 0.1, 'max_depth': 10, 'min_child_weight': 0.6, 'n_estimators': 300, 'reg_alpha': 0, 'reg_lambda': 1, 'subsample': 0.6}\n",
      "0.799641 (0.002556) with: {'learning_rate': 0.1, 'max_depth': 10, 'min_child_weight': 0.6, 'n_estimators': 300, 'reg_alpha': 0, 'reg_lambda': 1, 'subsample': 0.8}\n",
      "0.798788 (0.000810) with: {'learning_rate': 0.1, 'max_depth': 10, 'min_child_weight': 0.9, 'n_estimators': 100, 'reg_alpha': 0, 'reg_lambda': 1, 'subsample': 0.4}\n",
      "0.799551 (0.001883) with: {'learning_rate': 0.1, 'max_depth': 10, 'min_child_weight': 0.9, 'n_estimators': 100, 'reg_alpha': 0, 'reg_lambda': 1, 'subsample': 0.6}\n",
      "0.798833 (0.002295) with: {'learning_rate': 0.1, 'max_depth': 10, 'min_child_weight': 0.9, 'n_estimators': 100, 'reg_alpha': 0, 'reg_lambda': 1, 'subsample': 0.8}\n",
      "0.800673 (0.001243) with: {'learning_rate': 0.1, 'max_depth': 10, 'min_child_weight': 0.9, 'n_estimators': 200, 'reg_alpha': 0, 'reg_lambda': 1, 'subsample': 0.4}\n",
      "0.801279 (0.001000) with: {'learning_rate': 0.1, 'max_depth': 10, 'min_child_weight': 0.9, 'n_estimators': 200, 'reg_alpha': 0, 'reg_lambda': 1, 'subsample': 0.6}\n",
      "0.802065 (0.000786) with: {'learning_rate': 0.1, 'max_depth': 10, 'min_child_weight': 0.9, 'n_estimators': 200, 'reg_alpha': 0, 'reg_lambda': 1, 'subsample': 0.8}\n",
      "0.799371 (0.001844) with: {'learning_rate': 0.1, 'max_depth': 10, 'min_child_weight': 0.9, 'n_estimators': 300, 'reg_alpha': 0, 'reg_lambda': 1, 'subsample': 0.4}\n",
      "0.800516 (0.001569) with: {'learning_rate': 0.1, 'max_depth': 10, 'min_child_weight': 0.9, 'n_estimators': 300, 'reg_alpha': 0, 'reg_lambda': 1, 'subsample': 0.6}\n",
      "0.800831 (0.001306) with: {'learning_rate': 0.1, 'max_depth': 10, 'min_child_weight': 0.9, 'n_estimators': 300, 'reg_alpha': 0, 'reg_lambda': 1, 'subsample': 0.8}\n"
     ]
    }
   ],
   "source": [
    "# summarize results\n",
    "print(\"Best: %f using %s\" % (grid_result.best_score_, grid_result.best_params_))\n",
    "means = grid_result.cv_results_['mean_test_score']\n",
    "stds = grid_result.cv_results_['std_test_score']\n",
    "params = grid_result.cv_results_['params']\n",
    "for mean, stdev, param in zip(means, stds, params):\n",
    "    print(\"%f (%f) with: %r\" % (mean, stdev, param))"
   ]
  },
  {
   "cell_type": "code",
   "execution_count": 49,
   "metadata": {
    "ExecuteTime": {
     "end_time": "2020-07-10T12:06:24.234279Z",
     "start_time": "2020-07-10T12:06:24.226278Z"
    }
   },
   "outputs": [
    {
     "ename": "ValueError",
     "evalue": "cannot reshape array of size 27 into shape (3,3)",
     "output_type": "error",
     "traceback": [
      "\u001b[1;31m---------------------------------------------------------------------------\u001b[0m",
      "\u001b[1;31mValueError\u001b[0m                                Traceback (most recent call last)",
      "\u001b[1;32m<ipython-input-49-8fa8d044133b>\u001b[0m in \u001b[0;36m<module>\u001b[1;34m\u001b[0m\n\u001b[0;32m      1\u001b[0m \u001b[1;31m# plot results\u001b[0m\u001b[1;33m\u001b[0m\u001b[1;33m\u001b[0m\u001b[1;33m\u001b[0m\u001b[0m\n\u001b[1;32m----> 2\u001b[1;33m \u001b[0mscores\u001b[0m \u001b[1;33m=\u001b[0m \u001b[0mnp\u001b[0m\u001b[1;33m.\u001b[0m\u001b[0marray\u001b[0m\u001b[1;33m(\u001b[0m\u001b[0mmeans\u001b[0m\u001b[1;33m)\u001b[0m\u001b[1;33m.\u001b[0m\u001b[0mreshape\u001b[0m\u001b[1;33m(\u001b[0m\u001b[0mlen\u001b[0m\u001b[1;33m(\u001b[0m\u001b[0mmax_depth_1\u001b[0m\u001b[1;33m)\u001b[0m\u001b[1;33m,\u001b[0m \u001b[0mlen\u001b[0m\u001b[1;33m(\u001b[0m\u001b[0mn_estimators_1\u001b[0m\u001b[1;33m)\u001b[0m\u001b[1;33m)\u001b[0m\u001b[1;33m\u001b[0m\u001b[1;33m\u001b[0m\u001b[0m\n\u001b[0m\u001b[0;32m      3\u001b[0m \u001b[1;32mfor\u001b[0m \u001b[0mi\u001b[0m\u001b[1;33m,\u001b[0m \u001b[0mvalue\u001b[0m \u001b[1;32min\u001b[0m \u001b[0menumerate\u001b[0m\u001b[1;33m(\u001b[0m\u001b[0mmax_depth_1\u001b[0m\u001b[1;33m)\u001b[0m\u001b[1;33m:\u001b[0m\u001b[1;33m\u001b[0m\u001b[1;33m\u001b[0m\u001b[0m\n\u001b[0;32m      4\u001b[0m     \u001b[0mplt\u001b[0m\u001b[1;33m.\u001b[0m\u001b[0mplot\u001b[0m\u001b[1;33m(\u001b[0m\u001b[0mn_estimators_1\u001b[0m\u001b[1;33m,\u001b[0m \u001b[0mscores\u001b[0m\u001b[1;33m[\u001b[0m\u001b[0mi\u001b[0m\u001b[1;33m]\u001b[0m\u001b[1;33m,\u001b[0m \u001b[0mlabel\u001b[0m\u001b[1;33m=\u001b[0m\u001b[1;34m'depth: '\u001b[0m \u001b[1;33m+\u001b[0m \u001b[0mstr\u001b[0m\u001b[1;33m(\u001b[0m\u001b[0mvalue\u001b[0m\u001b[1;33m)\u001b[0m\u001b[1;33m)\u001b[0m\u001b[1;33m\u001b[0m\u001b[1;33m\u001b[0m\u001b[0m\n\u001b[0;32m      5\u001b[0m \u001b[0mplt\u001b[0m\u001b[1;33m.\u001b[0m\u001b[0mlegend\u001b[0m\u001b[1;33m(\u001b[0m\u001b[1;33m)\u001b[0m\u001b[1;33m\u001b[0m\u001b[1;33m\u001b[0m\u001b[0m\n",
      "\u001b[1;31mValueError\u001b[0m: cannot reshape array of size 27 into shape (3,3)"
     ]
    }
   ],
   "source": [
    "# plot results\n",
    "scores = np.array(means).reshape(len(max_depth_1), len(n_estimators_1))\n",
    "for i, value in enumerate(max_depth_1):\n",
    "    plt.plot(n_estimators_1, scores[i], label='depth: ' + str(value))\n",
    "plt.legend()\n",
    "plt.xlabel('n_estimators')\n",
    "plt.ylabel('Log Loss')\n",
    "plt.savefig('n_estimators_vs_max_depth.png')"
   ]
  },
  {
   "cell_type": "code",
   "execution_count": 50,
   "metadata": {
    "ExecuteTime": {
     "end_time": "2020-07-10T12:06:27.538015Z",
     "start_time": "2020-07-10T12:06:25.491555Z"
    },
    "scrolled": true
   },
   "outputs": [
    {
     "data": {
      "text/plain": [
       "<sklearn.metrics._plot.confusion_matrix.ConfusionMatrixDisplay at 0x1389967e808>"
      ]
     },
     "execution_count": 50,
     "metadata": {},
     "output_type": "execute_result"
    },
    {
     "data": {
      "image/png": "[encoded data removed]",
      "text/plain": [
       "<Figure size 432x288 with 2 Axes>"
      ]
     },
     "metadata": {
      "needs_background": "light"
     },
     "output_type": "display_data"
    }
   ],
   "source": [
    "plot_confusion_matrix(grid_result.best_estimator_, X_test, y_test)"
   ]
  },
  {
   "cell_type": "markdown",
   "metadata": {},
   "source": [
    "#### Send Test to CSV to submit"
   ]
  },
  {
   "cell_type": "code",
   "execution_count": 31,
   "metadata": {
    "ExecuteTime": {
     "end_time": "2020-07-10T11:32:12.654755Z",
     "start_time": "2020-07-10T11:32:12.224659Z"
    },
    "scrolled": true
   },
   "outputs": [],
   "source": [
    "test_preds = grid_result.best_estimator_.predict(test_data)"
   ]
  },
  {
   "cell_type": "code",
   "execution_count": 36,
   "metadata": {
    "ExecuteTime": {
     "end_time": "2020-07-10T11:34:48.387230Z",
     "start_time": "2020-07-10T11:34:48.354224Z"
    },
    "scrolled": true
   },
   "outputs": [
    {
     "data": {
      "text/html": [
       "<div>\n",
       "<style scoped>\n",
       "    .dataframe tbody tr th:only-of-type {\n",
       "        vertical-align: middle;\n",
       "    }\n",
       "\n",
       "    .dataframe tbody tr th {\n",
       "        vertical-align: top;\n",
       "    }\n",
       "\n",
       "    .dataframe thead th {\n",
       "        text-align: right;\n",
       "    }\n",
       "</style>\n",
       "<table border=\"1\" class=\"dataframe\">\n",
       "  <thead>\n",
       "    <tr style=\"text-align: right;\">\n",
       "      <th></th>\n",
       "      <th>id</th>\n",
       "      <th>date_recorded</th>\n",
       "      <th>longitude</th>\n",
       "      <th>latitude</th>\n",
       "      <th>region</th>\n",
       "      <th>district_code</th>\n",
       "      <th>scheme_management</th>\n",
       "      <th>permit</th>\n",
       "      <th>construction_year</th>\n",
       "      <th>extraction_type</th>\n",
       "      <th>...</th>\n",
       "      <th>payment_type</th>\n",
       "      <th>water_quality</th>\n",
       "      <th>quantity</th>\n",
       "      <th>source_type</th>\n",
       "      <th>waterpoint_type</th>\n",
       "      <th>tsh_bins</th>\n",
       "      <th>top_funders</th>\n",
       "      <th>below_sea_level</th>\n",
       "      <th>top_installers</th>\n",
       "      <th>status_group</th>\n",
       "    </tr>\n",
       "  </thead>\n",
       "  <tbody>\n",
       "    <tr>\n",
       "      <th>0</th>\n",
       "      <td>50785</td>\n",
       "      <td>1359936000</td>\n",
       "      <td>35.290799</td>\n",
       "      <td>-4.059696</td>\n",
       "      <td>Manyara</td>\n",
       "      <td>3</td>\n",
       "      <td>Parastatal</td>\n",
       "      <td>1.0</td>\n",
       "      <td>2012</td>\n",
       "      <td>other</td>\n",
       "      <td>...</td>\n",
       "      <td>never pay</td>\n",
       "      <td>soft</td>\n",
       "      <td>seasonal</td>\n",
       "      <td>rainwater harvesting</td>\n",
       "      <td>other</td>\n",
       "      <td>no tsh</td>\n",
       "      <td>other/unkown</td>\n",
       "      <td>0</td>\n",
       "      <td>other/unkown</td>\n",
       "      <td>functional</td>\n",
       "    </tr>\n",
       "    <tr>\n",
       "      <th>1</th>\n",
       "      <td>51630</td>\n",
       "      <td>1359936000</td>\n",
       "      <td>36.656709</td>\n",
       "      <td>-3.309214</td>\n",
       "      <td>Arusha</td>\n",
       "      <td>2</td>\n",
       "      <td>VWC</td>\n",
       "      <td>1.0</td>\n",
       "      <td>2000</td>\n",
       "      <td>gravity</td>\n",
       "      <td>...</td>\n",
       "      <td>never pay</td>\n",
       "      <td>soft</td>\n",
       "      <td>insufficient</td>\n",
       "      <td>spring</td>\n",
       "      <td>communal standpipe</td>\n",
       "      <td>no tsh</td>\n",
       "      <td>Government Of Tanzania</td>\n",
       "      <td>0</td>\n",
       "      <td>DWE</td>\n",
       "      <td>functional</td>\n",
       "    </tr>\n",
       "    <tr>\n",
       "      <th>2</th>\n",
       "      <td>17168</td>\n",
       "      <td>1359676800</td>\n",
       "      <td>34.767863</td>\n",
       "      <td>-5.004344</td>\n",
       "      <td>Singida</td>\n",
       "      <td>2</td>\n",
       "      <td>VWC</td>\n",
       "      <td>NaN</td>\n",
       "      <td>2010</td>\n",
       "      <td>other</td>\n",
       "      <td>...</td>\n",
       "      <td>never pay</td>\n",
       "      <td>soft</td>\n",
       "      <td>insufficient</td>\n",
       "      <td>rainwater harvesting</td>\n",
       "      <td>other</td>\n",
       "      <td>no tsh</td>\n",
       "      <td>other/unkown</td>\n",
       "      <td>0</td>\n",
       "      <td>other/unkown</td>\n",
       "      <td>functional</td>\n",
       "    </tr>\n",
       "    <tr>\n",
       "      <th>3</th>\n",
       "      <td>45559</td>\n",
       "      <td>1358812800</td>\n",
       "      <td>38.058046</td>\n",
       "      <td>-9.418672</td>\n",
       "      <td>Lindi</td>\n",
       "      <td>43</td>\n",
       "      <td>VWC</td>\n",
       "      <td>1.0</td>\n",
       "      <td>1987</td>\n",
       "      <td>other</td>\n",
       "      <td>...</td>\n",
       "      <td>unknown</td>\n",
       "      <td>soft</td>\n",
       "      <td>dry</td>\n",
       "      <td>shallow well</td>\n",
       "      <td>other</td>\n",
       "      <td>no tsh</td>\n",
       "      <td>other/unkown</td>\n",
       "      <td>0</td>\n",
       "      <td>other/unkown</td>\n",
       "      <td>functional</td>\n",
       "    </tr>\n",
       "    <tr>\n",
       "      <th>4</th>\n",
       "      <td>49871</td>\n",
       "      <td>1364342400</td>\n",
       "      <td>35.006123</td>\n",
       "      <td>-10.950412</td>\n",
       "      <td>Ruvuma</td>\n",
       "      <td>3</td>\n",
       "      <td>Water Board</td>\n",
       "      <td>1.0</td>\n",
       "      <td>2000</td>\n",
       "      <td>gravity</td>\n",
       "      <td>...</td>\n",
       "      <td>monthly</td>\n",
       "      <td>soft</td>\n",
       "      <td>enough</td>\n",
       "      <td>spring</td>\n",
       "      <td>communal standpipe</td>\n",
       "      <td>300+</td>\n",
       "      <td>other/unkown</td>\n",
       "      <td>0</td>\n",
       "      <td>other/unkown</td>\n",
       "      <td>non functional</td>\n",
       "    </tr>\n",
       "    <tr>\n",
       "      <th>...</th>\n",
       "      <td>...</td>\n",
       "      <td>...</td>\n",
       "      <td>...</td>\n",
       "      <td>...</td>\n",
       "      <td>...</td>\n",
       "      <td>...</td>\n",
       "      <td>...</td>\n",
       "      <td>...</td>\n",
       "      <td>...</td>\n",
       "      <td>...</td>\n",
       "      <td>...</td>\n",
       "      <td>...</td>\n",
       "      <td>...</td>\n",
       "      <td>...</td>\n",
       "      <td>...</td>\n",
       "      <td>...</td>\n",
       "      <td>...</td>\n",
       "      <td>...</td>\n",
       "      <td>...</td>\n",
       "      <td>...</td>\n",
       "      <td>...</td>\n",
       "    </tr>\n",
       "    <tr>\n",
       "      <th>14845</th>\n",
       "      <td>39307</td>\n",
       "      <td>1298505600</td>\n",
       "      <td>38.852669</td>\n",
       "      <td>-6.582841</td>\n",
       "      <td>Pwani</td>\n",
       "      <td>1</td>\n",
       "      <td>VWC</td>\n",
       "      <td>1.0</td>\n",
       "      <td>1988</td>\n",
       "      <td>mono</td>\n",
       "      <td>...</td>\n",
       "      <td>never pay</td>\n",
       "      <td>soft</td>\n",
       "      <td>enough</td>\n",
       "      <td>river/lake</td>\n",
       "      <td>communal standpipe</td>\n",
       "      <td>no tsh</td>\n",
       "      <td>Danida</td>\n",
       "      <td>0</td>\n",
       "      <td>other/unkown</td>\n",
       "      <td>non functional</td>\n",
       "    </tr>\n",
       "    <tr>\n",
       "      <th>14846</th>\n",
       "      <td>18990</td>\n",
       "      <td>1300665600</td>\n",
       "      <td>37.451633</td>\n",
       "      <td>-5.350428</td>\n",
       "      <td>Tanga</td>\n",
       "      <td>7</td>\n",
       "      <td>VWC</td>\n",
       "      <td>0.0</td>\n",
       "      <td>1994</td>\n",
       "      <td>nira/tanira</td>\n",
       "      <td>...</td>\n",
       "      <td>annually</td>\n",
       "      <td>salty</td>\n",
       "      <td>insufficient</td>\n",
       "      <td>shallow well</td>\n",
       "      <td>hand pump</td>\n",
       "      <td>300+</td>\n",
       "      <td>other/unkown</td>\n",
       "      <td>0</td>\n",
       "      <td>other/unkown</td>\n",
       "      <td>functional</td>\n",
       "    </tr>\n",
       "    <tr>\n",
       "      <th>14847</th>\n",
       "      <td>28749</td>\n",
       "      <td>1362355200</td>\n",
       "      <td>34.739804</td>\n",
       "      <td>-4.585587</td>\n",
       "      <td>Singida</td>\n",
       "      <td>2</td>\n",
       "      <td>VWC</td>\n",
       "      <td>NaN</td>\n",
       "      <td>2010</td>\n",
       "      <td>gravity</td>\n",
       "      <td>...</td>\n",
       "      <td>never pay</td>\n",
       "      <td>soft</td>\n",
       "      <td>insufficient</td>\n",
       "      <td>dam</td>\n",
       "      <td>communal standpipe</td>\n",
       "      <td>no tsh</td>\n",
       "      <td>other/unkown</td>\n",
       "      <td>0</td>\n",
       "      <td>other/unkown</td>\n",
       "      <td>functional</td>\n",
       "    </tr>\n",
       "    <tr>\n",
       "      <th>14848</th>\n",
       "      <td>33492</td>\n",
       "      <td>1361145600</td>\n",
       "      <td>35.432732</td>\n",
       "      <td>-10.584159</td>\n",
       "      <td>Ruvuma</td>\n",
       "      <td>2</td>\n",
       "      <td>VWC</td>\n",
       "      <td>1.0</td>\n",
       "      <td>2009</td>\n",
       "      <td>gravity</td>\n",
       "      <td>...</td>\n",
       "      <td>never pay</td>\n",
       "      <td>soft</td>\n",
       "      <td>insufficient</td>\n",
       "      <td>river/lake</td>\n",
       "      <td>communal standpipe</td>\n",
       "      <td>no tsh</td>\n",
       "      <td>other/unkown</td>\n",
       "      <td>0</td>\n",
       "      <td>DWE</td>\n",
       "      <td>functional</td>\n",
       "    </tr>\n",
       "    <tr>\n",
       "      <th>14849</th>\n",
       "      <td>68707</td>\n",
       "      <td>1360713600</td>\n",
       "      <td>34.765054</td>\n",
       "      <td>-11.226012</td>\n",
       "      <td>Ruvuma</td>\n",
       "      <td>3</td>\n",
       "      <td>VWC</td>\n",
       "      <td>1.0</td>\n",
       "      <td>2008</td>\n",
       "      <td>gravity</td>\n",
       "      <td>...</td>\n",
       "      <td>never pay</td>\n",
       "      <td>soft</td>\n",
       "      <td>dry</td>\n",
       "      <td>spring</td>\n",
       "      <td>communal standpipe</td>\n",
       "      <td>no tsh</td>\n",
       "      <td>Government Of Tanzania</td>\n",
       "      <td>0</td>\n",
       "      <td>Government</td>\n",
       "      <td>functional</td>\n",
       "    </tr>\n",
       "  </tbody>\n",
       "</table>\n",
       "<p>14850 rows × 21 columns</p>\n",
       "</div>"
      ],
      "text/plain": [
       "          id  date_recorded  longitude   latitude   region  district_code  \\\n",
       "0      50785     1359936000  35.290799  -4.059696  Manyara              3   \n",
       "1      51630     1359936000  36.656709  -3.309214   Arusha              2   \n",
       "2      17168     1359676800  34.767863  -5.004344  Singida              2   \n",
       "3      45559     1358812800  38.058046  -9.418672    Lindi             43   \n",
       "4      49871     1364342400  35.006123 -10.950412   Ruvuma              3   \n",
       "...      ...            ...        ...        ...      ...            ...   \n",
       "14845  39307     1298505600  38.852669  -6.582841    Pwani              1   \n",
       "14846  18990     1300665600  37.451633  -5.350428    Tanga              7   \n",
       "14847  28749     1362355200  34.739804  -4.585587  Singida              2   \n",
       "14848  33492     1361145600  35.432732 -10.584159   Ruvuma              2   \n",
       "14849  68707     1360713600  34.765054 -11.226012   Ruvuma              3   \n",
       "\n",
       "      scheme_management  permit  construction_year extraction_type  ...  \\\n",
       "0            Parastatal     1.0               2012           other  ...   \n",
       "1                   VWC     1.0               2000         gravity  ...   \n",
       "2                   VWC     NaN               2010           other  ...   \n",
       "3                   VWC     1.0               1987           other  ...   \n",
       "4           Water Board     1.0               2000         gravity  ...   \n",
       "...                 ...     ...                ...             ...  ...   \n",
       "14845               VWC     1.0               1988            mono  ...   \n",
       "14846               VWC     0.0               1994     nira/tanira  ...   \n",
       "14847               VWC     NaN               2010         gravity  ...   \n",
       "14848               VWC     1.0               2009         gravity  ...   \n",
       "14849               VWC     1.0               2008         gravity  ...   \n",
       "\n",
       "      payment_type water_quality      quantity           source_type  \\\n",
       "0        never pay          soft      seasonal  rainwater harvesting   \n",
       "1        never pay          soft  insufficient                spring   \n",
       "2        never pay          soft  insufficient  rainwater harvesting   \n",
       "3          unknown          soft           dry          shallow well   \n",
       "4          monthly          soft        enough                spring   \n",
       "...            ...           ...           ...                   ...   \n",
       "14845    never pay          soft        enough            river/lake   \n",
       "14846     annually         salty  insufficient          shallow well   \n",
       "14847    never pay          soft  insufficient                   dam   \n",
       "14848    never pay          soft  insufficient            river/lake   \n",
       "14849    never pay          soft           dry                spring   \n",
       "\n",
       "          waterpoint_type tsh_bins             top_funders below_sea_level  \\\n",
       "0                   other   no tsh            other/unkown               0   \n",
       "1      communal standpipe   no tsh  Government Of Tanzania               0   \n",
       "2                   other   no tsh            other/unkown               0   \n",
       "3                   other   no tsh            other/unkown               0   \n",
       "4      communal standpipe     300+            other/unkown               0   \n",
       "...                   ...      ...                     ...             ...   \n",
       "14845  communal standpipe   no tsh                  Danida               0   \n",
       "14846           hand pump     300+            other/unkown               0   \n",
       "14847  communal standpipe   no tsh            other/unkown               0   \n",
       "14848  communal standpipe   no tsh            other/unkown               0   \n",
       "14849  communal standpipe   no tsh  Government Of Tanzania               0   \n",
       "\n",
       "       top_installers    status_group  \n",
       "0        other/unkown      functional  \n",
       "1                 DWE      functional  \n",
       "2        other/unkown      functional  \n",
       "3        other/unkown      functional  \n",
       "4        other/unkown  non functional  \n",
       "...               ...             ...  \n",
       "14845    other/unkown  non functional  \n",
       "14846    other/unkown      functional  \n",
       "14847    other/unkown      functional  \n",
       "14848             DWE      functional  \n",
       "14849      Government      functional  \n",
       "\n",
       "[14850 rows x 21 columns]"
      ]
     },
     "execution_count": 36,
     "metadata": {},
     "output_type": "execute_result"
    }
   ],
   "source": [
    "test_df['status_group'] = test_preds\n",
    "test_df.reset_index(inplace=True)\n",
    "test_df"
   ]
  },
  {
   "cell_type": "code",
   "execution_count": 41,
   "metadata": {
    "ExecuteTime": {
     "end_time": "2020-07-10T11:40:38.653794Z",
     "start_time": "2020-07-10T11:40:38.632790Z"
    }
   },
   "outputs": [],
   "source": [
    "submit_df = test_df[['id','status_group']]\n",
    "pd.DataFrame.to_csv(submit_df,path_or_buf='./submittal_0.8005330203672462_iteration_3.csv',index=False)"
   ]
  },
  {
   "cell_type": "code",
   "execution_count": 52,
   "metadata": {
    "ExecuteTime": {
     "end_time": "2020-07-10T12:06:49.650159Z",
     "start_time": "2020-07-10T12:06:49.648158Z"
    }
   },
   "outputs": [],
   "source": [
    "acc = grid_result.best_score_"
   ]
  },
  {
   "cell_type": "code",
   "execution_count": 53,
   "metadata": {
    "ExecuteTime": {
     "end_time": "2020-07-10T12:06:50.297304Z",
     "start_time": "2020-07-10T12:06:50.294304Z"
    }
   },
   "outputs": [],
   "source": [
    "import pickle\n",
    "\n",
    "# pickle the model.\n",
    "with open(f'./{acc:.4}_iteration_3.sav','wb') as f:\n",
    "     pickle.dump(clf,f)\n",
    "\n"
   ]
  },
  {
   "cell_type": "code",
   "execution_count": null,
   "metadata": {
    "ExecuteTime": {
     "end_time": "2020-07-10T05:59:04.100227Z",
     "start_time": "2020-07-10T05:59:02.923Z"
    }
   },
   "outputs": [],
   "source": [
    "import pickle\n",
    "#load it back in to see if everything works\n",
    "with open('0.8005330203672462_iteration_3.sav', 'rb') as pickle_file:\n",
    "     clf = pickle.load(pickle_file)"
   ]
  },
  {
   "cell_type": "code",
   "execution_count": null,
   "metadata": {
    "ExecuteTime": {
     "end_time": "2020-07-10T05:59:04.101228Z",
     "start_time": "2020-07-10T05:59:02.924Z"
    }
   },
   "outputs": [],
   "source": [
    "clf.predict(test_data)"
   ]
  },
  {
   "cell_type": "code",
   "execution_count": null,
   "metadata": {},
   "outputs": [],
   "source": []
  }
 ],
 "metadata": {
  "kernelspec": {
   "display_name": "Python 3",
   "language": "python",
   "name": "python3"
  },
  "language_info": {
   "codemirror_mode": {
    "name": "ipython",
    "version": 3
   },
   "file_extension": ".py",
   "mimetype": "text/x-python",
   "name": "python",
   "nbconvert_exporter": "python",
   "pygments_lexer": "ipython3",
   "version": "3.7.6"
  },
  "varInspector": {
   "cols": {
    "lenName": 16,
    "lenType": 16,
    "lenVar": 40
   },
   "kernels_config": {
    "python": {
     "delete_cmd_postfix": "",
     "delete_cmd_prefix": "del ",
     "library": "var_list.py",
     "varRefreshCmd": "print(var_dic_list())"
    },
    "r": {
     "delete_cmd_postfix": ") ",
     "delete_cmd_prefix": "rm(",
     "library": "var_list.r",
     "varRefreshCmd": "cat(var_dic_list()) "
    }
   },
   "position": {
    "height": "1213.22px",
    "left": "2793.11px",
    "right": "20px",
    "top": "118px",
    "width": "600.208px"
   },
   "types_to_exclude": [
    "module",
    "function",
    "builtin_function_or_method",
    "instance",
    "_Feature"
   ],
   "window_display": true
  }
 },
 "nbformat": 4,
 "nbformat_minor": 4
}
