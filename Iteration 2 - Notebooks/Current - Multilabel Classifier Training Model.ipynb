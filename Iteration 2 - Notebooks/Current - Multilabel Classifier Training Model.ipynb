{
 "cells": [
  {
   "cell_type": "code",
   "execution_count": 34,
   "metadata": {
    "ExecuteTime": {
     "end_time": "2020-08-10T13:32:05.533379Z",
     "start_time": "2020-08-10T13:32:05.530380Z"
    }
   },
   "outputs": [],
   "source": [
    "import pandas as pd\n",
    "import matplotlib.pyplot as plt\n",
    "import numpy as np\n",
    "import xgboost"
   ]
  },
  {
   "cell_type": "code",
   "execution_count": 35,
   "metadata": {
    "ExecuteTime": {
     "end_time": "2020-08-10T13:32:06.052381Z",
     "start_time": "2020-08-10T13:32:05.907378Z"
    }
   },
   "outputs": [],
   "source": [
    "df = pd.read_csv('./train_test_data/prepared_training_data.csv',index_col='id')\n",
    "\n",
    "test_df = pd.read_csv('./train_test_data/prepared_test_data.csv',index_col='id')\n",
    "#df.drop(columns='permit',inplace=True)\n",
    "#test_df.drop(columns='permit',inplace=True)\n"
   ]
  },
  {
   "cell_type": "code",
   "execution_count": 36,
   "metadata": {
    "ExecuteTime": {
     "end_time": "2020-08-10T13:32:06.410378Z",
     "start_time": "2020-08-10T13:32:06.406378Z"
    }
   },
   "outputs": [],
   "source": [
    "from sklearn.preprocessing import OneHotEncoder, StandardScaler, LabelEncoder\n",
    "from sklearn.compose import make_column_transformer\n",
    "from sklearn.pipeline import Pipeline, make_pipeline\n",
    "from xgboost import XGBClassifier, plot_importance, plot_tree\n",
    "\n",
    "from sklearn.model_selection import train_test_split, StratifiedKFold, cross_val_score, GridSearchCV, cross_val_predict\n",
    "from sklearn.metrics import accuracy_score,f1_score,cohen_kappa_score,plot_confusion_matrix\n",
    "from sklearn.feature_selection import SelectFromModel\n",
    "from sklearn.tree import DecisionTreeClassifier\n",
    "\n",
    "from sklearn.feature_selection import RFECV"
   ]
  },
  {
   "cell_type": "code",
   "execution_count": 37,
   "metadata": {
    "ExecuteTime": {
     "end_time": "2020-08-10T13:32:06.724379Z",
     "start_time": "2020-08-10T13:32:06.704382Z"
    }
   },
   "outputs": [],
   "source": [
    "# set X and y variables\n",
    "X = df.drop(columns=['status_group','population'])\n",
    "Y = df.status_group\n",
    "\n",
    "# get list of predictors to OHE\n",
    "object_predictors = list(X.select_dtypes(include=['object']).columns)\n",
    "test_object_predictors = list(test_df.select_dtypes(include=['object']).columns)"
   ]
  },
  {
   "cell_type": "code",
   "execution_count": 38,
   "metadata": {
    "ExecuteTime": {
     "end_time": "2020-08-10T13:32:06.991379Z",
     "start_time": "2020-08-10T13:32:06.987379Z"
    },
    "scrolled": true
   },
   "outputs": [
    {
     "data": {
      "text/plain": [
       "Index(['date_recorded', 'gps_height', 'longitude', 'latitude', 'region',\n",
       "       'district_code', 'scheme_management', 'permit', 'extraction_type',\n",
       "       'management', 'quality_group', 'quantity', 'source_type',\n",
       "       'waterpoint_type', 'tsh_bins', 'top_funders', 'top_installers',\n",
       "       'population_size', 'construction_decade'],\n",
       "      dtype='object')"
      ]
     },
     "execution_count": 38,
     "metadata": {},
     "output_type": "execute_result"
    }
   ],
   "source": [
    "# Check Columns are good\n",
    "X.columns"
   ]
  },
  {
   "cell_type": "code",
   "execution_count": 39,
   "metadata": {
    "ExecuteTime": {
     "end_time": "2020-08-10T13:32:07.249381Z",
     "start_time": "2020-08-10T13:32:07.245381Z"
    }
   },
   "outputs": [
    {
     "data": {
      "text/plain": [
       "Index(['date_recorded', 'gps_height', 'longitude', 'latitude', 'region',\n",
       "       'district_code', 'scheme_management', 'permit', 'extraction_type',\n",
       "       'management', 'quality_group', 'quantity', 'source_type',\n",
       "       'waterpoint_type', 'tsh_bins', 'top_funders', 'top_installers',\n",
       "       'population_size', 'construction_decade'],\n",
       "      dtype='object')"
      ]
     },
     "execution_count": 39,
     "metadata": {},
     "output_type": "execute_result"
    }
   ],
   "source": [
    "# Check columns are good\n",
    "test_df.columns"
   ]
  },
  {
   "cell_type": "code",
   "execution_count": 40,
   "metadata": {
    "ExecuteTime": {
     "end_time": "2020-08-10T13:32:07.463381Z",
     "start_time": "2020-08-10T13:32:07.250381Z"
    }
   },
   "outputs": [],
   "source": [
    " # Make Column transformer for object columns and ignore the rest\n",
    "column_trans = make_column_transformer(\n",
    "    (OneHotEncoder(handle_unknown='ignore'), object_predictors),\n",
    "    remainder='passthrough')\n",
    "\n",
    " # Make Column transformer for object columns and ignore the rest\n",
    "test_column_trans = make_column_transformer(\n",
    "    (OneHotEncoder(handle_unknown='ignore'), test_object_predictors),\n",
    "    remainder='passthrough')\n",
    "\n",
    "# Fit column transformers\n",
    "X = column_trans.fit_transform(X)\n",
    "test_data = column_trans.transform(test_df)"
   ]
  },
  {
   "cell_type": "code",
   "execution_count": 41,
   "metadata": {
    "ExecuteTime": {
     "end_time": "2020-08-10T13:32:07.730378Z",
     "start_time": "2020-08-10T13:32:07.726378Z"
    }
   },
   "outputs": [
    {
     "name": "stdout",
     "output_type": "stream",
     "text": [
      "(59400, 122)\n",
      "(14850, 122)\n"
     ]
    }
   ],
   "source": [
    "print(X.shape)\n",
    "\n",
    "print(test_data.shape)"
   ]
  },
  {
   "cell_type": "markdown",
   "metadata": {},
   "source": [
    "### Train Test Split"
   ]
  },
  {
   "cell_type": "code",
   "execution_count": 42,
   "metadata": {
    "ExecuteTime": {
     "end_time": "2020-08-10T13:32:08.281381Z",
     "start_time": "2020-08-10T13:32:08.264380Z"
    }
   },
   "outputs": [],
   "source": [
    "# Train test split for model training data\n",
    "X_train, X_test, y_train, y_test = train_test_split(\n",
    "    X,\n",
    "    Y,\n",
    "    test_size=.2,\n",
    "    random_state=0)"
   ]
  },
  {
   "cell_type": "code",
   "execution_count": 43,
   "metadata": {
    "ExecuteTime": {
     "end_time": "2020-08-10T13:32:08.287379Z",
     "start_time": "2020-08-10T13:32:08.282379Z"
    }
   },
   "outputs": [],
   "source": [
    "# tune the model\n",
    "n_estimators_1 = [200,300]\n",
    "max_depth_1 = [15,20]\n",
    "learning_rate_1 = [0.1]\n",
    "min_child_weight_1 = [1]\n",
    "reg_lamba_1 = [20,25]\n",
    "subsample_1 = [0.75,1]\n",
    "\n",
    "# Create dictionary of parameters to search\n",
    "param_grid = dict(max_depth=max_depth_1,\n",
    "                  n_estimators=n_estimators_1,\n",
    "                  learning_rate=learning_rate_1,\n",
    "                  min_child_weight=min_child_weight_1,\n",
    "                  reg_lambda=reg_lamba_1,\n",
    "                  subsample=subsample_1,\n",
    "                 )"
   ]
  },
  {
   "cell_type": "code",
   "execution_count": 44,
   "metadata": {
    "ExecuteTime": {
     "end_time": "2020-08-10T13:39:11.026726Z",
     "start_time": "2020-08-10T13:32:08.288379Z"
    },
    "scrolled": false
   },
   "outputs": [
    {
     "name": "stdout",
     "output_type": "stream",
     "text": [
      "Fitting 3 folds for each of 16 candidates, totalling 48 fits\n"
     ]
    },
    {
     "name": "stderr",
     "output_type": "stream",
     "text": [
      "[Parallel(n_jobs=-1)]: Using backend LokyBackend with 24 concurrent workers.\n",
      "[Parallel(n_jobs=-1)]: Done  48 out of  48 | elapsed:  5.5min finished\n"
     ]
    }
   ],
   "source": [
    "# Cross Validate and gridsearch\n",
    "clf = XGBClassifier(objective='multi:softmax',early_stopping_rounds=10)\n",
    "kfold = StratifiedKFold(n_splits=3,shuffle=True,random_state=1)\n",
    "grid_search = GridSearchCV(clf,param_grid,scoring='accuracy',n_jobs=-1,cv=kfold,verbose=1)\n",
    "grid_result = grid_search.fit(X, Y)"
   ]
  },
  {
   "cell_type": "code",
   "execution_count": 45,
   "metadata": {
    "ExecuteTime": {
     "end_time": "2020-08-10T13:39:11.032726Z",
     "start_time": "2020-08-10T13:39:11.027726Z"
    }
   },
   "outputs": [
    {
     "name": "stdout",
     "output_type": "stream",
     "text": [
      "Best: 0.810320 using {'learning_rate': 0.1, 'max_depth': 15, 'min_child_weight': 1, 'n_estimators': 200, 'reg_lambda': 25, 'subsample': 0.75}\n",
      "0.809529 (0.000999) with: {'learning_rate': 0.1, 'max_depth': 15, 'min_child_weight': 1, 'n_estimators': 200, 'reg_lambda': 20, 'subsample': 0.75}\n",
      "0.808620 (0.001044) with: {'learning_rate': 0.1, 'max_depth': 15, 'min_child_weight': 1, 'n_estimators': 200, 'reg_lambda': 20, 'subsample': 1}\n",
      "0.810320 (0.001022) with: {'learning_rate': 0.1, 'max_depth': 15, 'min_child_weight': 1, 'n_estimators': 200, 'reg_lambda': 25, 'subsample': 0.75}\n",
      "0.808519 (0.001390) with: {'learning_rate': 0.1, 'max_depth': 15, 'min_child_weight': 1, 'n_estimators': 200, 'reg_lambda': 25, 'subsample': 1}\n",
      "0.807710 (0.001248) with: {'learning_rate': 0.1, 'max_depth': 15, 'min_child_weight': 1, 'n_estimators': 300, 'reg_lambda': 20, 'subsample': 0.75}\n",
      "0.809057 (0.001055) with: {'learning_rate': 0.1, 'max_depth': 15, 'min_child_weight': 1, 'n_estimators': 300, 'reg_lambda': 20, 'subsample': 1}\n",
      "0.808502 (0.001197) with: {'learning_rate': 0.1, 'max_depth': 15, 'min_child_weight': 1, 'n_estimators': 300, 'reg_lambda': 25, 'subsample': 0.75}\n",
      "0.808805 (0.000889) with: {'learning_rate': 0.1, 'max_depth': 15, 'min_child_weight': 1, 'n_estimators': 300, 'reg_lambda': 25, 'subsample': 1}\n",
      "0.808535 (0.001606) with: {'learning_rate': 0.1, 'max_depth': 20, 'min_child_weight': 1, 'n_estimators': 200, 'reg_lambda': 20, 'subsample': 0.75}\n",
      "0.808047 (0.001029) with: {'learning_rate': 0.1, 'max_depth': 20, 'min_child_weight': 1, 'n_estimators': 200, 'reg_lambda': 20, 'subsample': 1}\n",
      "0.809040 (0.001278) with: {'learning_rate': 0.1, 'max_depth': 20, 'min_child_weight': 1, 'n_estimators': 200, 'reg_lambda': 25, 'subsample': 0.75}\n",
      "0.808569 (0.000866) with: {'learning_rate': 0.1, 'max_depth': 20, 'min_child_weight': 1, 'n_estimators': 200, 'reg_lambda': 25, 'subsample': 1}\n",
      "0.805337 (0.001452) with: {'learning_rate': 0.1, 'max_depth': 20, 'min_child_weight': 1, 'n_estimators': 300, 'reg_lambda': 20, 'subsample': 0.75}\n",
      "0.806633 (0.001068) with: {'learning_rate': 0.1, 'max_depth': 20, 'min_child_weight': 1, 'n_estimators': 300, 'reg_lambda': 20, 'subsample': 1}\n",
      "0.806229 (0.000707) with: {'learning_rate': 0.1, 'max_depth': 20, 'min_child_weight': 1, 'n_estimators': 300, 'reg_lambda': 25, 'subsample': 0.75}\n",
      "0.807340 (0.000683) with: {'learning_rate': 0.1, 'max_depth': 20, 'min_child_weight': 1, 'n_estimators': 300, 'reg_lambda': 25, 'subsample': 1}\n"
     ]
    }
   ],
   "source": [
    "# summarize results\n",
    "print(\"Best: %f using %s\" % (grid_result.best_score_, grid_result.best_params_))\n",
    "means = grid_result.cv_results_['mean_test_score']\n",
    "stds = grid_result.cv_results_['std_test_score']\n",
    "params = grid_result.cv_results_['params']\n",
    "for mean, stdev, param in zip(means, stds, params):\n",
    "    print(\"%f (%f) with: %r\" % (mean, stdev, param))"
   ]
  },
  {
   "cell_type": "code",
   "execution_count": 46,
   "metadata": {
    "ExecuteTime": {
     "end_time": "2020-08-10T13:39:20.925727Z",
     "start_time": "2020-08-10T13:39:11.033729Z"
    },
    "scrolled": false
   },
   "outputs": [
    {
     "data": {
      "text/plain": [
       "<Figure size 720x720 with 0 Axes>"
      ]
     },
     "execution_count": 46,
     "metadata": {},
     "output_type": "execute_result"
    },
    {
     "data": {
      "image/png": "[encoded data removed]",
      "text/plain": [
       "<Figure size 432x288 with 2 Axes>"
      ]
     },
     "metadata": {
      "needs_background": "light"
     },
     "output_type": "display_data"
    },
    {
     "data": {
      "text/plain": [
       "<Figure size 720x720 with 0 Axes>"
      ]
     },
     "metadata": {},
     "output_type": "display_data"
    }
   ],
   "source": [
    "# Plot Confusion matrix to see how best estimator does\n",
    "plot_confusion_matrix(grid_result.best_estimator_, X, Y)\n",
    "plt.xticks(rotation=45)\n",
    "plt.figure(figsize=(10,10))"
   ]
  },
  {
   "cell_type": "code",
   "execution_count": 47,
   "metadata": {
    "ExecuteTime": {
     "end_time": "2020-08-10T13:39:23.405726Z",
     "start_time": "2020-08-10T13:39:20.925727Z"
    }
   },
   "outputs": [],
   "source": [
    "# Make predictions to be submitted\n",
    "test_preds = grid_result.best_estimator_.predict(test_data)"
   ]
  },
  {
   "cell_type": "markdown",
   "metadata": {},
   "source": [
    "#### Send Test to CSV to submit"
   ]
  },
  {
   "cell_type": "code",
   "execution_count": 48,
   "metadata": {
    "ExecuteTime": {
     "end_time": "2020-08-10T13:39:24.980725Z",
     "start_time": "2020-08-10T13:39:24.905726Z"
    }
   },
   "outputs": [
    {
     "data": {
      "text/plain": [
       "functional                 59.973064\n",
       "non functional             35.993266\n",
       "functional needs repair     4.033670\n",
       "dtype: float64"
      ]
     },
     "execution_count": 48,
     "metadata": {},
     "output_type": "execute_result"
    }
   ],
   "source": [
    "# View normalized breakdown of data to check ratios\n",
    "pd.Series(test_preds).value_counts(normalize=True)*100"
   ]
  },
  {
   "cell_type": "code",
   "execution_count": 49,
   "metadata": {
    "ExecuteTime": {
     "end_time": "2020-08-10T13:39:24.989726Z",
     "start_time": "2020-08-10T13:39:24.981725Z"
    },
    "scrolled": true
   },
   "outputs": [],
   "source": [
    "# Check DF\n",
    "test_df.reset_index(inplace=True)\n",
    "test_df['status_group'] = test_preds\n",
    "submit_df = test_df[['id','status_group']]"
   ]
  },
  {
   "cell_type": "code",
   "execution_count": 50,
   "metadata": {
    "ExecuteTime": {
     "end_time": "2020-08-10T13:39:25.552727Z",
     "start_time": "2020-08-10T13:39:25.542725Z"
    }
   },
   "outputs": [
    {
     "data": {
      "text/html": [
       "<div>\n",
       "<style scoped>\n",
       "    .dataframe tbody tr th:only-of-type {\n",
       "        vertical-align: middle;\n",
       "    }\n",
       "\n",
       "    .dataframe tbody tr th {\n",
       "        vertical-align: top;\n",
       "    }\n",
       "\n",
       "    .dataframe thead th {\n",
       "        text-align: right;\n",
       "    }\n",
       "</style>\n",
       "<table border=\"1\" class=\"dataframe\">\n",
       "  <thead>\n",
       "    <tr style=\"text-align: right;\">\n",
       "      <th></th>\n",
       "      <th>id</th>\n",
       "      <th>status_group</th>\n",
       "    </tr>\n",
       "  </thead>\n",
       "  <tbody>\n",
       "    <tr>\n",
       "      <th>0</th>\n",
       "      <td>50785</td>\n",
       "      <td>non functional</td>\n",
       "    </tr>\n",
       "    <tr>\n",
       "      <th>1</th>\n",
       "      <td>51630</td>\n",
       "      <td>functional</td>\n",
       "    </tr>\n",
       "    <tr>\n",
       "      <th>2</th>\n",
       "      <td>17168</td>\n",
       "      <td>functional</td>\n",
       "    </tr>\n",
       "    <tr>\n",
       "      <th>3</th>\n",
       "      <td>45559</td>\n",
       "      <td>non functional</td>\n",
       "    </tr>\n",
       "    <tr>\n",
       "      <th>4</th>\n",
       "      <td>49871</td>\n",
       "      <td>functional</td>\n",
       "    </tr>\n",
       "  </tbody>\n",
       "</table>\n",
       "</div>"
      ],
      "text/plain": [
       "      id    status_group\n",
       "0  50785  non functional\n",
       "1  51630      functional\n",
       "2  17168      functional\n",
       "3  45559  non functional\n",
       "4  49871      functional"
      ]
     },
     "execution_count": 50,
     "metadata": {},
     "output_type": "execute_result"
    }
   ],
   "source": [
    "submit_df.head()"
   ]
  },
  {
   "cell_type": "code",
   "execution_count": 51,
   "metadata": {
    "ExecuteTime": {
     "end_time": "2020-08-10T13:39:25.852728Z",
     "start_time": "2020-08-10T13:39:25.824726Z"
    }
   },
   "outputs": [],
   "source": [
    "pd.DataFrame.to_csv(submit_df,path_or_buf='./Predictions/iteration_7_csv',index=False)"
   ]
  },
  {
   "cell_type": "code",
   "execution_count": 52,
   "metadata": {
    "ExecuteTime": {
     "end_time": "2020-08-10T13:39:26.129727Z",
     "start_time": "2020-08-10T13:39:26.125726Z"
    }
   },
   "outputs": [],
   "source": [
    "import pickle\n",
    "\n",
    "# pickle the model.\n",
    "with open(f'./{grid_result.best_score_:.4}_iteration_5.sav','wb') as f:\n",
    "     pickle.dump(clf,f)\n",
    "\n"
   ]
  },
  {
   "cell_type": "code",
   "execution_count": 53,
   "metadata": {
    "ExecuteTime": {
     "end_time": "2020-08-10T13:39:26.139726Z",
     "start_time": "2020-08-10T13:39:26.132725Z"
    }
   },
   "outputs": [
    {
     "ename": "FileNotFoundError",
     "evalue": "[Errno 2] No such file or directory: '0.8005330203672462_iteration_3.sav'",
     "output_type": "error",
     "traceback": [
      "\u001b[1;31m---------------------------------------------------------------------------\u001b[0m",
      "\u001b[1;31mFileNotFoundError\u001b[0m                         Traceback (most recent call last)",
      "\u001b[1;32m<ipython-input-53-530972656af3>\u001b[0m in \u001b[0;36m<module>\u001b[1;34m\u001b[0m\n\u001b[0;32m      1\u001b[0m \u001b[1;32mimport\u001b[0m \u001b[0mpickle\u001b[0m\u001b[1;33m\u001b[0m\u001b[1;33m\u001b[0m\u001b[0m\n\u001b[0;32m      2\u001b[0m \u001b[1;31m#load it back in to see if everything works\u001b[0m\u001b[1;33m\u001b[0m\u001b[1;33m\u001b[0m\u001b[1;33m\u001b[0m\u001b[0m\n\u001b[1;32m----> 3\u001b[1;33m \u001b[1;32mwith\u001b[0m \u001b[0mopen\u001b[0m\u001b[1;33m(\u001b[0m\u001b[1;34m'0.8005330203672462_iteration_3.sav'\u001b[0m\u001b[1;33m,\u001b[0m \u001b[1;34m'rb'\u001b[0m\u001b[1;33m)\u001b[0m \u001b[1;32mas\u001b[0m \u001b[0mpickle_file\u001b[0m\u001b[1;33m:\u001b[0m\u001b[1;33m\u001b[0m\u001b[1;33m\u001b[0m\u001b[0m\n\u001b[0m\u001b[0;32m      4\u001b[0m      \u001b[0mclf\u001b[0m \u001b[1;33m=\u001b[0m \u001b[0mpickle\u001b[0m\u001b[1;33m.\u001b[0m\u001b[0mload\u001b[0m\u001b[1;33m(\u001b[0m\u001b[0mpickle_file\u001b[0m\u001b[1;33m)\u001b[0m\u001b[1;33m\u001b[0m\u001b[1;33m\u001b[0m\u001b[0m\n",
      "\u001b[1;31mFileNotFoundError\u001b[0m: [Errno 2] No such file or directory: '0.8005330203672462_iteration_3.sav'"
     ]
    }
   ],
   "source": [
    "import pickle\n",
    "#load it back in to see if everything works\n",
    "with open('0.8005330203672462_iteration_3.sav', 'rb') as pickle_file:\n",
    "     clf = pickle.load(pickle_file)"
   ]
  },
  {
   "cell_type": "code",
   "execution_count": null,
   "metadata": {
    "ExecuteTime": {
     "end_time": "2020-08-10T13:39:26.145726Z",
     "start_time": "2020-08-10T13:32:07.066Z"
    }
   },
   "outputs": [],
   "source": [
    "clf.predict(test_data)"
   ]
  },
  {
   "cell_type": "code",
   "execution_count": null,
   "metadata": {},
   "outputs": [],
   "source": []
  },
  {
   "cell_type": "code",
   "execution_count": null,
   "metadata": {},
   "outputs": [],
   "source": []
  },
  {
   "cell_type": "code",
   "execution_count": null,
   "metadata": {},
   "outputs": [],
   "source": []
  },
  {
   "cell_type": "code",
   "execution_count": null,
   "metadata": {},
   "outputs": [],
   "source": []
  },
  {
   "cell_type": "code",
   "execution_count": null,
   "metadata": {},
   "outputs": [],
   "source": []
  },
  {
   "cell_type": "code",
   "execution_count": null,
   "metadata": {},
   "outputs": [],
   "source": []
  },
  {
   "cell_type": "code",
   "execution_count": null,
   "metadata": {},
   "outputs": [],
   "source": []
  },
  {
   "cell_type": "code",
   "execution_count": null,
   "metadata": {},
   "outputs": [],
   "source": []
  },
  {
   "cell_type": "code",
   "execution_count": null,
   "metadata": {},
   "outputs": [],
   "source": []
  },
  {
   "cell_type": "code",
   "execution_count": null,
   "metadata": {},
   "outputs": [],
   "source": []
  },
  {
   "cell_type": "code",
   "execution_count": null,
   "metadata": {},
   "outputs": [],
   "source": []
  },
  {
   "cell_type": "code",
   "execution_count": null,
   "metadata": {},
   "outputs": [],
   "source": []
  },
  {
   "cell_type": "code",
   "execution_count": null,
   "metadata": {},
   "outputs": [],
   "source": []
  },
  {
   "cell_type": "code",
   "execution_count": null,
   "metadata": {},
   "outputs": [],
   "source": []
  },
  {
   "cell_type": "code",
   "execution_count": null,
   "metadata": {},
   "outputs": [],
   "source": []
  },
  {
   "cell_type": "code",
   "execution_count": null,
   "metadata": {},
   "outputs": [],
   "source": []
  }
 ],
 "metadata": {
  "kernelspec": {
   "display_name": "Python 3",
   "language": "python",
   "name": "python3"
  },
  "language_info": {
   "codemirror_mode": {
    "name": "ipython",
    "version": 3
   },
   "file_extension": ".py",
   "mimetype": "text/x-python",
   "name": "python",
   "nbconvert_exporter": "python",
   "pygments_lexer": "ipython3",
   "version": "3.7.6"
  },
  "varInspector": {
   "cols": {
    "lenName": 16,
    "lenType": 16,
    "lenVar": 40
   },
   "kernels_config": {
    "python": {
     "delete_cmd_postfix": "",
     "delete_cmd_prefix": "del ",
     "library": "var_list.py",
     "varRefreshCmd": "print(var_dic_list())"
    },
    "r": {
     "delete_cmd_postfix": ") ",
     "delete_cmd_prefix": "rm(",
     "library": "var_list.r",
     "varRefreshCmd": "cat(var_dic_list()) "
    }
   },
   "position": {
    "height": "1213.22px",
    "left": "2793.11px",
    "right": "20px",
    "top": "118px",
    "width": "600.208px"
   },
   "types_to_exclude": [
    "module",
    "function",
    "builtin_function_or_method",
    "instance",
    "_Feature"
   ],
   "window_display": false
  }
 },
 "nbformat": 4,
 "nbformat_minor": 4
}
